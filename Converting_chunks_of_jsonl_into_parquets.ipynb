{
 "cells": [
  {
   "cell_type": "code",
   "execution_count": 6,
   "id": "c6638dab",
   "metadata": {},
   "outputs": [],
   "source": [
    "import os \n",
    "\n",
    "import numpy as np\n",
    "import pandas as pd\n",
    "\n",
    "from pathlib import Path\n",
    "from glob import glob\n",
    "from tqdm import tqdm"
   ]
  },
  {
   "cell_type": "markdown",
   "id": "32cc66e5",
   "metadata": {},
   "source": [
    "Loading data from train.jsonl file into chunks of parquet files"
   ]
  },
  {
   "cell_type": "code",
   "execution_count": 7,
   "id": "00836923",
   "metadata": {},
   "outputs": [
    {
     "name": "stderr",
     "output_type": "stream",
     "text": [
      "100%|█████████████████████████████████████████| 129/129 [11:25<00:00,  5.32s/it]"
     ]
    },
    {
     "name": "stdout",
     "output_type": "stream",
     "text": [
      "CPU times: user 11min, sys: 17.3 s, total: 11min 18s\n",
      "Wall time: 11min 25s\n"
     ]
    },
    {
     "name": "stderr",
     "output_type": "stream",
     "text": [
      "\n"
     ]
    }
   ],
   "source": [
    "%%time\n",
    "#data_path = Path('/kaggle/input/otto-recommender-system/')\n",
    "chunksize = 100_000\n",
    "save = True\n",
    "\n",
    "type_map = {\n",
    "    \"clicks\": 1,\n",
    "    \"carts\": 3,\n",
    "    \"orders\": 5\n",
    "}\n",
    "\n",
    "chunks = pd.read_json('data/train.jsonl', lines=True, chunksize=chunksize)\n",
    "#os.mkdir('data/train_parquet')\n",
    "\n",
    "for e, chunk in enumerate(tqdm(chunks, total=129)):\n",
    "    event_dict = {\n",
    "        'session': [],\n",
    "        'aid': [],\n",
    "        'type': [],\n",
    "    }\n",
    "    \n",
    "    for session, events in zip(chunk['session'].tolist(), chunk['events'].tolist()):\n",
    "        for event in events:\n",
    "            event_dict['session'].append(session)\n",
    "            event_dict['aid'].append(event['aid'])\n",
    "            #event_dict['ts'].append(event['ts'])\n",
    "            #event_dict['type'].append(event['type'])\n",
    "            event_dict['type'].append(type_map[event['type']])\n",
    "    \n",
    "    # save DataFrame\n",
    "    start = str(e*chunksize).zfill(9)\n",
    "    end = str(e*chunksize+chunksize).zfill(9)\n",
    "    event_df = pd.DataFrame(event_dict)\n",
    "    if save == True:\n",
    "        event_df.to_parquet(f\"data/train_parquet/{start}_{end}.parquet\")"
   ]
  },
  {
   "cell_type": "markdown",
   "id": "6ff59018",
   "metadata": {},
   "source": [
    "Loading data from test.jsonl into parquets"
   ]
  },
  {
   "cell_type": "code",
   "execution_count": 11,
   "id": "280b730a",
   "metadata": {},
   "outputs": [
    {
     "name": "stderr",
     "output_type": "stream",
     "text": [
      "17it [00:32,  1.94s/it]"
     ]
    },
    {
     "name": "stdout",
     "output_type": "stream",
     "text": [
      "CPU times: user 32.5 s, sys: 519 ms, total: 33 s\n",
      "Wall time: 32.9 s\n"
     ]
    },
    {
     "name": "stderr",
     "output_type": "stream",
     "text": [
      "\n"
     ]
    }
   ],
   "source": [
    "%%time\n",
    "#data_path = Path('/kaggle/input/otto-recommender-system/')\n",
    "chunksize = 100_000\n",
    "save = True\n",
    "\n",
    "type_map = {\n",
    "    \"clicks\": 1,\n",
    "    \"carts\": 3,\n",
    "    \"orders\": 5\n",
    "}\n",
    "\n",
    "chunks = pd.read_json('data/test.jsonl', lines=True, chunksize=chunksize)\n",
    "#os.mkdir('data/train_parquet')\n",
    "x=129\n",
    "for e, chunk in enumerate(tqdm(chunks)):\n",
    "    event_dict = {\n",
    "        'session': [],\n",
    "        'aid': [],\n",
    "        'type': [],\n",
    "    }\n",
    "    \n",
    "    for session, events in zip(chunk['session'].tolist(), chunk['events'].tolist()):\n",
    "        for event in events:\n",
    "            event_dict['session'].append(session)\n",
    "            event_dict['aid'].append(event['aid'])\n",
    "            #event_dict['ts'].append(event['ts'])\n",
    "            #event_dict['type'].append(event['type'])\n",
    "            event_dict['type'].append(type_map[event['type']])\n",
    "    \n",
    "    # save DataFrame\n",
    "    start = str(x*chunksize).zfill(9)\n",
    "    end = str(x*chunksize+chunksize).zfill(9)\n",
    "    x=x+1\n",
    "    event_df = pd.DataFrame(event_dict)\n",
    "    if save == True:\n",
    "        event_df.to_parquet(f\"data/train_parquet/{start}_{end}.parquet\")"
   ]
  },
  {
   "cell_type": "markdown",
   "id": "ca5ca771",
   "metadata": {},
   "source": [
    "Loading and displaying a single parquet file"
   ]
  },
  {
   "cell_type": "code",
   "execution_count": 4,
   "id": "41278c04",
   "metadata": {},
   "outputs": [
    {
     "name": "stdout",
     "output_type": "stream",
     "text": [
      "CPU times: user 128 ms, sys: 117 ms, total: 245 ms\n",
      "Wall time: 131 ms\n"
     ]
    },
    {
     "data": {
      "text/html": [
       "<div>\n",
       "<style scoped>\n",
       "    .dataframe tbody tr th:only-of-type {\n",
       "        vertical-align: middle;\n",
       "    }\n",
       "\n",
       "    .dataframe tbody tr th {\n",
       "        vertical-align: top;\n",
       "    }\n",
       "\n",
       "    .dataframe thead th {\n",
       "        text-align: right;\n",
       "    }\n",
       "</style>\n",
       "<table border=\"1\" class=\"dataframe\">\n",
       "  <thead>\n",
       "    <tr style=\"text-align: right;\">\n",
       "      <th></th>\n",
       "      <th>session</th>\n",
       "      <th>aid</th>\n",
       "      <th>type</th>\n",
       "    </tr>\n",
       "  </thead>\n",
       "  <tbody>\n",
       "    <tr>\n",
       "      <th>0</th>\n",
       "      <td>0</td>\n",
       "      <td>1517085</td>\n",
       "      <td>1</td>\n",
       "    </tr>\n",
       "    <tr>\n",
       "      <th>1</th>\n",
       "      <td>0</td>\n",
       "      <td>1563459</td>\n",
       "      <td>1</td>\n",
       "    </tr>\n",
       "    <tr>\n",
       "      <th>2</th>\n",
       "      <td>0</td>\n",
       "      <td>1309446</td>\n",
       "      <td>1</td>\n",
       "    </tr>\n",
       "    <tr>\n",
       "      <th>3</th>\n",
       "      <td>0</td>\n",
       "      <td>16246</td>\n",
       "      <td>1</td>\n",
       "    </tr>\n",
       "    <tr>\n",
       "      <th>4</th>\n",
       "      <td>0</td>\n",
       "      <td>1781822</td>\n",
       "      <td>1</td>\n",
       "    </tr>\n",
       "  </tbody>\n",
       "</table>\n",
       "</div>"
      ],
      "text/plain": [
       "   session      aid  type\n",
       "0        0  1517085     1\n",
       "1        0  1563459     1\n",
       "2        0  1309446     1\n",
       "3        0    16246     1\n",
       "4        0  1781822     1"
      ]
     },
     "execution_count": 4,
     "metadata": {},
     "output_type": "execute_result"
    }
   ],
   "source": [
    "%%time\n",
    "event_df = pd.read_parquet('data/train_parquet/000000000_000100000.parquet')\n",
    "event_df.head()"
   ]
  },
  {
   "cell_type": "code",
   "execution_count": 6,
   "id": "e04185b6",
   "metadata": {},
   "outputs": [
    {
     "data": {
      "text/plain": [
       "session    int64\n",
       "aid        int64\n",
       "type       int64\n",
       "dtype: object"
      ]
     },
     "execution_count": 6,
     "metadata": {},
     "output_type": "execute_result"
    }
   ],
   "source": [
    "event_df.dtypes"
   ]
  },
  {
   "cell_type": "code",
   "execution_count": null,
   "id": "bc14a47a",
   "metadata": {},
   "outputs": [],
   "source": []
  }
 ],
 "metadata": {
  "kernelspec": {
   "display_name": "Python 3 (ipykernel)",
   "language": "python",
   "name": "python3"
  },
  "language_info": {
   "codemirror_mode": {
    "name": "ipython",
    "version": 3
   },
   "file_extension": ".py",
   "mimetype": "text/x-python",
   "name": "python",
   "nbconvert_exporter": "python",
   "pygments_lexer": "ipython3",
   "version": "3.9.13"
  }
 },
 "nbformat": 4,
 "nbformat_minor": 5
}
