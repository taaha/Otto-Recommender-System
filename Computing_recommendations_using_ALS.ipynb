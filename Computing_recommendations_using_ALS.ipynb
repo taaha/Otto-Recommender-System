{
 "cells": [
  {
   "cell_type": "markdown",
   "id": "02a30f30",
   "metadata": {},
   "source": [
    "### Starting Spark Session"
   ]
  },
  {
   "cell_type": "code",
   "execution_count": 1,
   "id": "9240ee00",
   "metadata": {},
   "outputs": [
    {
     "name": "stdout",
     "output_type": "stream",
     "text": [
      "23/01/15 13:11:00 WARN Utils: Your hostname, darth-Vig800S resolves to a loopback address: 127.0.1.1; using 192.168.100.39 instead (on interface eno1)\n",
      "23/01/15 13:11:00 WARN Utils: Set SPARK_LOCAL_IP if you need to bind to another address\n"
     ]
    },
    {
     "name": "stderr",
     "output_type": "stream",
     "text": [
      "Setting default log level to \"WARN\".\n",
      "To adjust logging level use sc.setLogLevel(newLevel). For SparkR, use setLogLevel(newLevel).\n"
     ]
    },
    {
     "name": "stdout",
     "output_type": "stream",
     "text": [
      "23/01/15 13:11:07 WARN NativeCodeLoader: Unable to load native-hadoop library for your platform... using builtin-java classes where applicable\n"
     ]
    }
   ],
   "source": [
    "from pyspark.ml.recommendation import ALS\n",
    "from pyspark.sql import SparkSession\n",
    "from tqdm import tqdm\n",
    "\n",
    "# Create a SparkSession\n",
    "#spark = SparkSession.builder.getOrCreate()\n",
    "spark = SparkSession.builder \\\n",
    "    .config('spark.driver.memory', '24g') \\\n",
    "    .getOrCreate()"
   ]
  },
  {
   "cell_type": "markdown",
   "id": "9e48ee9f",
   "metadata": {},
   "source": [
    "### Importing ALS model"
   ]
  },
  {
   "cell_type": "code",
   "execution_count": 8,
   "id": "60c20695",
   "metadata": {},
   "outputs": [
    {
     "name": "stderr",
     "output_type": "stream",
     "text": [
      "\r",
      "[Stage 1:>                                                          (0 + 1) / 1]\r",
      "\r",
      "                                                                                \r"
     ]
    }
   ],
   "source": [
    "from pyspark.ml.recommendation import ALSModel\n",
    "\n",
    "model_path = \"data/als_model1\"\n",
    "#model = ALS.load(model_path)\n",
    "model = ALSModel.load(model_path)"
   ]
  },
  {
   "cell_type": "code",
   "execution_count": 9,
   "id": "c104f609",
   "metadata": {},
   "outputs": [
    {
     "data": {
      "text/plain": [
       "ALSModel: uid=ALS_9f8e159e3d18, rank=10"
      ]
     },
     "execution_count": 9,
     "metadata": {},
     "output_type": "execute_result"
    }
   ],
   "source": [
    "model"
   ]
  },
  {
   "cell_type": "markdown",
   "id": "6399b924",
   "metadata": {},
   "source": [
    "### Getting Recommendations for Test set parquet by parquet"
   ]
  },
  {
   "cell_type": "code",
   "execution_count": null,
   "id": "69ea12f7",
   "metadata": {},
   "outputs": [
    {
     "name": "stderr",
     "output_type": "stream",
     "text": [
      "  6%|██▎                                     | 1/17 [24:14<6:27:56, 1454.77s/it]"
     ]
    },
    {
     "name": "stdout",
     "output_type": "stream",
     "text": [
      "file processed 1\n"
     ]
    },
    {
     "name": "stderr",
     "output_type": "stream",
     "text": [
      " 12%|████▋                                   | 2/17 [45:59<5:41:40, 1366.69s/it]"
     ]
    },
    {
     "name": "stdout",
     "output_type": "stream",
     "text": [
      "file processed 2\n"
     ]
    },
    {
     "name": "stderr",
     "output_type": "stream",
     "text": [
      " 18%|██████▋                               | 3/17 [1:07:33<5:11:03, 1333.13s/it]"
     ]
    },
    {
     "name": "stdout",
     "output_type": "stream",
     "text": [
      "file processed 3\n"
     ]
    },
    {
     "name": "stderr",
     "output_type": "stream",
     "text": [
      " 24%|████████▉                             | 4/17 [1:28:27<4:42:05, 1301.93s/it]"
     ]
    },
    {
     "name": "stdout",
     "output_type": "stream",
     "text": [
      "file processed 4\n"
     ]
    },
    {
     "name": "stderr",
     "output_type": "stream",
     "text": [
      " 29%|███████████▏                          | 5/17 [1:49:20<4:16:54, 1284.56s/it]"
     ]
    },
    {
     "name": "stdout",
     "output_type": "stream",
     "text": [
      "file processed 5\n"
     ]
    },
    {
     "name": "stderr",
     "output_type": "stream",
     "text": [
      " 35%|█████████████▍                        | 6/17 [2:10:16<3:53:40, 1274.61s/it]"
     ]
    },
    {
     "name": "stdout",
     "output_type": "stream",
     "text": [
      "file processed 6\n"
     ]
    },
    {
     "name": "stderr",
     "output_type": "stream",
     "text": [
      " 41%|███████████████▋                      | 7/17 [2:31:17<3:31:42, 1270.27s/it]"
     ]
    },
    {
     "name": "stdout",
     "output_type": "stream",
     "text": [
      "file processed 7\n"
     ]
    },
    {
     "name": "stderr",
     "output_type": "stream",
     "text": [
      " 47%|█████████████████▉                    | 8/17 [2:52:28<3:10:34, 1270.52s/it]"
     ]
    },
    {
     "name": "stdout",
     "output_type": "stream",
     "text": [
      "file processed 8\n"
     ]
    },
    {
     "name": "stderr",
     "output_type": "stream",
     "text": [
      " 53%|████████████████████                  | 9/17 [3:13:19<2:48:34, 1264.29s/it]"
     ]
    },
    {
     "name": "stdout",
     "output_type": "stream",
     "text": [
      "file processed 9\n"
     ]
    },
    {
     "name": "stderr",
     "output_type": "stream",
     "text": [
      " 59%|█████████████████████▊               | 10/17 [3:34:11<2:27:04, 1260.61s/it]"
     ]
    },
    {
     "name": "stdout",
     "output_type": "stream",
     "text": [
      "file processed 10\n"
     ]
    },
    {
     "name": "stderr",
     "output_type": "stream",
     "text": [
      " 65%|███████████████████████▉             | 11/17 [3:55:05<2:05:51, 1258.59s/it]"
     ]
    },
    {
     "name": "stdout",
     "output_type": "stream",
     "text": [
      "file processed 11\n"
     ]
    },
    {
     "name": "stderr",
     "output_type": "stream",
     "text": [
      "[Stage 60:>                                                        (0 + 4) / 25]\r"
     ]
    }
   ],
   "source": [
    "# Initialize an empty list to store the DataFrames\n",
    "df_list = []\n",
    "x=0\n",
    "# Iterate through the list of Parquet files\n",
    "for file in tqdm(file_list):\n",
    "    # Read the Parquet file into a Spark DataFrame\n",
    "    df = spark.read.parquet(file)\n",
    "    userRecs = model.recommendForUserSubset(df, 20)\n",
    "    userRecs.write.parquet(\"data/recommendations.userRecs_{}.parquet\".format(x))\n",
    "    x=x+1\n",
    "    print('file processed',x)"
   ]
  },
  {
   "cell_type": "markdown",
   "id": "e94a7cd6",
   "metadata": {},
   "source": [
    "Code was stopped due to power outage. Started again with the ongoing index"
   ]
  },
  {
   "cell_type": "code",
   "execution_count": 10,
   "id": "6c062837",
   "metadata": {},
   "outputs": [
    {
     "name": "stderr",
     "output_type": "stream",
     "text": [
      " 17%|██████▊                                  | 1/6 [22:59<1:54:56, 1379.26s/it]"
     ]
    },
    {
     "name": "stdout",
     "output_type": "stream",
     "text": [
      "file processed 13\n"
     ]
    },
    {
     "name": "stderr",
     "output_type": "stream",
     "text": [
      " 33%|█████████████▋                           | 2/6 [45:36<1:31:05, 1366.27s/it]"
     ]
    },
    {
     "name": "stdout",
     "output_type": "stream",
     "text": [
      "file processed 14\n"
     ]
    },
    {
     "name": "stderr",
     "output_type": "stream",
     "text": [
      " 50%|█████████████████████▌                     | 3/6 [59:54<56:43, 1134.36s/it]"
     ]
    },
    {
     "name": "stdout",
     "output_type": "stream",
     "text": [
      "file processed 15\n"
     ]
    },
    {
     "name": "stderr",
     "output_type": "stream",
     "text": [
      " 67%|███████████████████████████▎             | 4/6 [1:21:25<39:52, 1196.18s/it]"
     ]
    },
    {
     "name": "stdout",
     "output_type": "stream",
     "text": [
      "file processed 16\n"
     ]
    },
    {
     "name": "stderr",
     "output_type": "stream",
     "text": [
      " 83%|██████████████████████████████████▏      | 5/6 [1:44:55<21:13, 1273.33s/it]"
     ]
    },
    {
     "name": "stdout",
     "output_type": "stream",
     "text": [
      "file processed 17\n"
     ]
    },
    {
     "name": "stderr",
     "output_type": "stream",
     "text": [
      "100%|█████████████████████████████████████████| 6/6 [2:06:08<00:00, 1261.34s/it]"
     ]
    },
    {
     "name": "stdout",
     "output_type": "stream",
     "text": [
      "file processed 18\n"
     ]
    },
    {
     "name": "stderr",
     "output_type": "stream",
     "text": [
      "\n"
     ]
    }
   ],
   "source": [
    "# Initialize an empty list to store the DataFrames\n",
    "df_list = []\n",
    "x=12\n",
    "# Iterate through the list of Parquet files\n",
    "for file in tqdm(file_list[11:]):\n",
    "    # Read the Parquet file into a Spark DataFrame\n",
    "    df = spark.read.parquet(file)\n",
    "    userRecs = model.recommendForUserSubset(df, 20)\n",
    "    userRecs.write.parquet(\"data/recommendations.userRecs_{}.parquet\".format(x))\n",
    "    x=x+1\n",
    "    print('file processed',x)"
   ]
  },
  {
   "cell_type": "markdown",
   "id": "554e453a",
   "metadata": {},
   "source": [
    "### Getting all parquets containing recommendations and joining them into single pyspark dataframe"
   ]
  },
  {
   "cell_type": "code",
   "execution_count": 24,
   "id": "f926326d",
   "metadata": {},
   "outputs": [],
   "source": [
    "import os\n",
    "\n",
    "# Get the list of files in the data directory\n",
    "file_list = [f for f in os.listdir('data') if f.endswith('.parquet')]\n",
    "\n",
    "# Prepend the directory path to each file name\n",
    "file_list = [os.path.join('data', f) for f in file_list]"
   ]
  },
  {
   "cell_type": "code",
   "execution_count": 25,
   "id": "68657919",
   "metadata": {},
   "outputs": [
    {
     "data": {
      "text/plain": [
       "['data/recommendations.userRecs_13.parquet',\n",
       " 'data/recommendations.userRecs_7.parquet',\n",
       " 'data/recommendations.userRecs_15.parquet',\n",
       " 'data/recommendations.userRecs_9.parquet',\n",
       " 'data/recommendations.userRecs_17.parquet',\n",
       " 'data/recommendations.userRecs_5.parquet',\n",
       " 'data/recommendations.userRecs_3.parquet',\n",
       " 'data/recommendations.userRecs_0.parquet',\n",
       " 'data/recommendations.userRecs_4.parquet',\n",
       " 'data/recommendations.userRecs_14.parquet',\n",
       " 'data/recommendations.userRecs_2.parquet',\n",
       " 'data/recommendations.userRecs_6.parquet',\n",
       " 'data/recommendations.userRecs_1.parquet',\n",
       " 'data/recommendations.userRecs_10.parquet',\n",
       " 'data/recommendations.userRecs_16.parquet',\n",
       " 'data/recommendations.userRecs_12.parquet',\n",
       " 'data/recommendations.userRecs_8.parquet']"
      ]
     },
     "execution_count": 25,
     "metadata": {},
     "output_type": "execute_result"
    }
   ],
   "source": [
    "#file_list = sorted(file_list)\n",
    "file_list"
   ]
  },
  {
   "cell_type": "code",
   "execution_count": 26,
   "id": "546f504a",
   "metadata": {},
   "outputs": [
    {
     "name": "stderr",
     "output_type": "stream",
     "text": [
      " 12%|█████▏                                      | 2/17 [00:00<00:00, 19.21it/s]"
     ]
    },
    {
     "name": "stdout",
     "output_type": "stream",
     "text": [
      "reading data/recommendations.userRecs_13.parquet\n",
      "reading data/recommendations.userRecs_7.parquet\n",
      "reading data/recommendations.userRecs_15.parquet\n",
      "reading data/recommendations.userRecs_9.parquet\n"
     ]
    },
    {
     "name": "stderr",
     "output_type": "stream",
     "text": [
      " 35%|███████████████▌                            | 6/17 [00:00<00:00, 15.59it/s]"
     ]
    },
    {
     "name": "stdout",
     "output_type": "stream",
     "text": [
      "reading data/recommendations.userRecs_17.parquet\n",
      "reading data/recommendations.userRecs_5.parquet\n",
      "reading data/recommendations.userRecs_3.parquet\n"
     ]
    },
    {
     "name": "stderr",
     "output_type": "stream",
     "text": [
      "\r",
      " 47%|████████████████████▋                       | 8/17 [00:00<00:00, 13.22it/s]"
     ]
    },
    {
     "name": "stdout",
     "output_type": "stream",
     "text": [
      "reading data/recommendations.userRecs_0.parquet\n",
      "reading data/recommendations.userRecs_4.parquet\n"
     ]
    },
    {
     "name": "stderr",
     "output_type": "stream",
     "text": [
      "\r",
      " 59%|█████████████████████████▎                 | 10/17 [00:00<00:00, 12.07it/s]"
     ]
    },
    {
     "name": "stdout",
     "output_type": "stream",
     "text": [
      "reading data/recommendations.userRecs_14.parquet\n",
      "reading data/recommendations.userRecs_2.parquet\n",
      "reading data/recommendations.userRecs_6.parquet\n"
     ]
    },
    {
     "name": "stderr",
     "output_type": "stream",
     "text": [
      " 82%|███████████████████████████████████▍       | 14/17 [00:01<00:00, 10.74it/s]"
     ]
    },
    {
     "name": "stdout",
     "output_type": "stream",
     "text": [
      "reading data/recommendations.userRecs_1.parquet\n",
      "reading data/recommendations.userRecs_10.parquet\n",
      "reading data/recommendations.userRecs_16.parquet\n"
     ]
    },
    {
     "name": "stderr",
     "output_type": "stream",
     "text": [
      "\r",
      " 94%|████████████████████████████████████████▍  | 16/17 [00:01<00:00, 12.40it/s]"
     ]
    },
    {
     "name": "stdout",
     "output_type": "stream",
     "text": [
      "reading data/recommendations.userRecs_12.parquet\n",
      "reading data/recommendations.userRecs_8.parquet\n"
     ]
    },
    {
     "name": "stderr",
     "output_type": "stream",
     "text": [
      "100%|███████████████████████████████████████████| 17/17 [00:01<00:00, 11.85it/s]\n",
      "100%|███████████████████████████████████████████| 16/16 [00:00<00:00, 95.38it/s]\n"
     ]
    },
    {
     "name": "stdout",
     "output_type": "stream",
     "text": [
      "+--------+--------------------+\n",
      "| session|     recommendations|\n",
      "+--------+--------------------+\n",
      "|13099782|[{1430595, 6.6899...|\n",
      "|13099783|[{324469, 6.87379...|\n",
      "|13099791|[{1009155, 7.0895...|\n",
      "|13099797|[{1430595, 6.8703...|\n",
      "|13099798|[{483206, 3.11228...|\n",
      "|13099802|[{1385885, 4.8944...|\n",
      "|13099804|[{1430595, 5.2117...|\n",
      "|13099810|[{864780, 4.63304...|\n",
      "|13099811|[{1476694, 5.1000...|\n",
      "|13099812|[{1092859, 4.5939...|\n",
      "|13099817|[{322904, 6.65523...|\n",
      "|13099827|[{1113468, 4.9162...|\n",
      "|13099829|[{784456, 2.37662...|\n",
      "|13099830|[{54800, 4.843239...|\n",
      "|13099834|[{984451, 5.71908...|\n",
      "|13099836|[{1113468, 4.6241...|\n",
      "|13099838|[{710874, 13.2699...|\n",
      "|13099842|[{260465, 5.95399...|\n",
      "|13099850|[{434262, 2.52402...|\n",
      "|13099863|[{1716873, 6.1223...|\n",
      "+--------+--------------------+\n",
      "only showing top 20 rows\n",
      "\n"
     ]
    }
   ],
   "source": [
    "# Initialize an empty list to store the DataFrames\n",
    "recs_list = []\n",
    "\n",
    "# Iterate through the list of Parquet files\n",
    "for file in tqdm(file_list):\n",
    "    # Read the Parquet file into a Spark DataFrame\n",
    "    print('reading', file)\n",
    "    recs = spark.read.parquet(file)\n",
    "\n",
    "    # Append the DataFrame to the list\n",
    "    recs_list.append(recs)\n",
    "\n",
    "# Concatenate the DataFrames in the list\n",
    "#df = df_list[0].union(df_list[1:])\n",
    "recs = recs_list[0]\n",
    "\n",
    "# Iterate through the rest of the DataFrames in the list\n",
    "for i in tqdm(range(1, len(recs_list))):\n",
    "    # Union the DataFrame with the next DataFrame in the list\n",
    "    recs = recs.union(recs_list[i])\n",
    "\n",
    "    \n",
    "recs.show()"
   ]
  },
  {
   "cell_type": "code",
   "execution_count": 27,
   "id": "dac9ec7b",
   "metadata": {},
   "outputs": [
    {
     "name": "stderr",
     "output_type": "stream",
     "text": [
      "                                                                                \r"
     ]
    },
    {
     "data": {
      "text/plain": [
       "1671803"
      ]
     },
     "execution_count": 27,
     "metadata": {},
     "output_type": "execute_result"
    }
   ],
   "source": [
    "recs.count()"
   ]
  },
  {
   "cell_type": "markdown",
   "id": "60cc2a76",
   "metadata": {},
   "source": [
    "### Saving the dataframe containing recommendations"
   ]
  },
  {
   "cell_type": "code",
   "execution_count": 28,
   "id": "123a9d9b",
   "metadata": {},
   "outputs": [
    {
     "name": "stderr",
     "output_type": "stream",
     "text": [
      "                                                                                \r"
     ]
    }
   ],
   "source": [
    "recs.write.parquet(\"data/recs.parquet\")"
   ]
  }
 ],
 "metadata": {
  "kernelspec": {
   "display_name": "Python 3 (ipykernel)",
   "language": "python",
   "name": "python3"
  },
  "language_info": {
   "codemirror_mode": {
    "name": "ipython",
    "version": 3
   },
   "file_extension": ".py",
   "mimetype": "text/x-python",
   "name": "python",
   "nbconvert_exporter": "python",
   "pygments_lexer": "ipython3",
   "version": "3.9.13"
  }
 },
 "nbformat": 4,
 "nbformat_minor": 5
}
