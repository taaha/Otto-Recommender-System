{
 "cells": [
  {
   "cell_type": "code",
   "execution_count": 2,
   "id": "696c5280",
   "metadata": {},
   "outputs": [
    {
     "name": "stdout",
     "output_type": "stream",
     "text": [
      "Warning: Your Kaggle API key is readable by other users on this system! To fix this, you can run 'chmod 600 /home/darth/.kaggle/kaggle.json'\n",
      "Downloading otto-recommender-system.zip to /home/darth/MLAI-projects/Otto Recommender System\n",
      "100%|█████████████████████████████████████▉| 1.94G/1.94G [09:51<00:00, 3.64MB/s]\n",
      "100%|██████████████████████████████████████| 1.94G/1.94G [09:51<00:00, 3.52MB/s]\n"
     ]
    }
   ],
   "source": [
    "#!kaggle competitions download -c otto-recommender-system"
   ]
  },
  {
   "cell_type": "code",
   "execution_count": 1,
   "id": "bf3f3bbf",
   "metadata": {},
   "outputs": [
    {
     "name": "stderr",
     "output_type": "stream",
     "text": [
      "12899779it [06:25, 33486.94it/s]\n"
     ]
    }
   ],
   "source": [
    "import json\n",
    "import pandas as pd\n",
    "from tqdm import tqdm\n",
    "\n",
    "# Open the JSONL file for reading\n",
    "with open('data/train.jsonl', 'r') as f:\n",
    "    # Initialize the dictionary to store the counts\n",
    "    counts = {}\n",
    "    \n",
    "    # Read the file line by line\n",
    "    for line in tqdm(f):\n",
    "        # Parse the JSON object\n",
    "        obj = json.loads(line)\n",
    "        \n",
    "        # Iterate over the events\n",
    "        for event in obj['events']:\n",
    "            # Get the aid for the event\n",
    "            aid = event['aid']\n",
    "            \n",
    "            # If the aid is not in the dictionary yet, initialize the count to 0\n",
    "            if aid not in counts:\n",
    "                counts[aid] = 0\n",
    "            \n",
    "            # Increment the count for the aid\n",
    "            counts[aid] += 1"
   ]
  },
  {
   "cell_type": "code",
   "execution_count": 2,
   "id": "a8c858f8",
   "metadata": {},
   "outputs": [
    {
     "data": {
      "text/html": [
       "<div>\n",
       "<style scoped>\n",
       "    .dataframe tbody tr th:only-of-type {\n",
       "        vertical-align: middle;\n",
       "    }\n",
       "\n",
       "    .dataframe tbody tr th {\n",
       "        vertical-align: top;\n",
       "    }\n",
       "\n",
       "    .dataframe thead th {\n",
       "        text-align: right;\n",
       "    }\n",
       "</style>\n",
       "<table border=\"1\" class=\"dataframe\">\n",
       "  <thead>\n",
       "    <tr style=\"text-align: right;\">\n",
       "      <th></th>\n",
       "      <th>aid</th>\n",
       "      <th>count</th>\n",
       "    </tr>\n",
       "  </thead>\n",
       "  <tbody>\n",
       "    <tr>\n",
       "      <th>0</th>\n",
       "      <td>1517085</td>\n",
       "      <td>121</td>\n",
       "    </tr>\n",
       "    <tr>\n",
       "      <th>1</th>\n",
       "      <td>1563459</td>\n",
       "      <td>84</td>\n",
       "    </tr>\n",
       "    <tr>\n",
       "      <th>2</th>\n",
       "      <td>1309446</td>\n",
       "      <td>5811</td>\n",
       "    </tr>\n",
       "    <tr>\n",
       "      <th>3</th>\n",
       "      <td>16246</td>\n",
       "      <td>1646</td>\n",
       "    </tr>\n",
       "    <tr>\n",
       "      <th>4</th>\n",
       "      <td>1781822</td>\n",
       "      <td>51</td>\n",
       "    </tr>\n",
       "  </tbody>\n",
       "</table>\n",
       "</div>"
      ],
      "text/plain": [
       "       aid  count\n",
       "0  1517085    121\n",
       "1  1563459     84\n",
       "2  1309446   5811\n",
       "3    16246   1646\n",
       "4  1781822     51"
      ]
     },
     "execution_count": 2,
     "metadata": {},
     "output_type": "execute_result"
    }
   ],
   "source": [
    "# Create a Pandas DataFrame from the dictionary\n",
    "df = pd.DataFrame.from_dict(counts, orient='index', columns=['count'])\n",
    "\n",
    "# Set the aid column as the index\n",
    "df.index.name = 'aid'\n",
    "df = df.reset_index()\n",
    "\n",
    "df.head()\n",
    "#print(df)"
   ]
  },
  {
   "cell_type": "code",
   "execution_count": 3,
   "id": "ab57a0d7",
   "metadata": {},
   "outputs": [
    {
     "name": "stdout",
     "output_type": "stream",
     "text": [
      "[1460571  485256  108125   29735 1733943  832192  184976  166037  554660\n",
      "  231487 1502122  986164 1603001  322370 1236775  332654 1196256  756588\n",
      " 1083665  959208]\n"
     ]
    }
   ],
   "source": [
    "# Sort the DataFrame by the count column in descending order\n",
    "df = df.sort_values('count', ascending=False)\n",
    "\n",
    "# Select the top 20 rows\n",
    "top_20 = df.head(20)\n",
    "\n",
    "# Extract the aid values from the selected rows\n",
    "aids = top_20['aid'].values\n",
    "\n",
    "print(aids)"
   ]
  },
  {
   "cell_type": "code",
   "execution_count": 9,
   "id": "811057cc",
   "metadata": {},
   "outputs": [
    {
     "data": {
      "text/plain": [
       "numpy.ndarray"
      ]
     },
     "execution_count": 9,
     "metadata": {},
     "output_type": "execute_result"
    }
   ],
   "source": [
    "type(aids)"
   ]
  },
  {
   "cell_type": "code",
   "execution_count": 11,
   "id": "0863e825",
   "metadata": {},
   "outputs": [
    {
     "name": "stdout",
     "output_type": "stream",
     "text": [
      "1460571 485256 108125 29735 1733943 832192 184976 166037 554660 231487 1502122 986164 1603001 322370 1236775 332654 1196256 756588 1083665 959208\n"
     ]
    }
   ],
   "source": [
    "string_values = [str(x) for x in aids]\n",
    "\n",
    "# Join the list of strings with a space as the delimiter\n",
    "aids_str = ' '.join(string_values)\n",
    "\n",
    "print(aids_str)"
   ]
  },
  {
   "cell_type": "code",
   "execution_count": 4,
   "id": "5a47adfb",
   "metadata": {},
   "outputs": [
    {
     "data": {
      "text/html": [
       "<div>\n",
       "<style scoped>\n",
       "    .dataframe tbody tr th:only-of-type {\n",
       "        vertical-align: middle;\n",
       "    }\n",
       "\n",
       "    .dataframe tbody tr th {\n",
       "        vertical-align: top;\n",
       "    }\n",
       "\n",
       "    .dataframe thead th {\n",
       "        text-align: right;\n",
       "    }\n",
       "</style>\n",
       "<table border=\"1\" class=\"dataframe\">\n",
       "  <thead>\n",
       "    <tr style=\"text-align: right;\">\n",
       "      <th></th>\n",
       "      <th>aid</th>\n",
       "      <th>count</th>\n",
       "    </tr>\n",
       "  </thead>\n",
       "  <tbody>\n",
       "    <tr>\n",
       "      <th>6924</th>\n",
       "      <td>1460571</td>\n",
       "      <td>129004</td>\n",
       "    </tr>\n",
       "    <tr>\n",
       "      <th>4929</th>\n",
       "      <td>485256</td>\n",
       "      <td>126836</td>\n",
       "    </tr>\n",
       "    <tr>\n",
       "      <th>340</th>\n",
       "      <td>108125</td>\n",
       "      <td>118524</td>\n",
       "    </tr>\n",
       "    <tr>\n",
       "      <th>4010</th>\n",
       "      <td>29735</td>\n",
       "      <td>113279</td>\n",
       "    </tr>\n",
       "    <tr>\n",
       "      <th>2796</th>\n",
       "      <td>1733943</td>\n",
       "      <td>105091</td>\n",
       "    </tr>\n",
       "  </tbody>\n",
       "</table>\n",
       "</div>"
      ],
      "text/plain": [
       "          aid   count\n",
       "6924  1460571  129004\n",
       "4929   485256  126836\n",
       "340    108125  118524\n",
       "4010    29735  113279\n",
       "2796  1733943  105091"
      ]
     },
     "execution_count": 4,
     "metadata": {},
     "output_type": "execute_result"
    }
   ],
   "source": [
    "top_20.head()"
   ]
  },
  {
   "cell_type": "code",
   "execution_count": 18,
   "id": "3d4df5f0",
   "metadata": {},
   "outputs": [],
   "source": [
    "df.to_csv('data/aid_counts_train.csv', index=False, header=True)"
   ]
  },
  {
   "cell_type": "code",
   "execution_count": 8,
   "id": "937ada92",
   "metadata": {},
   "outputs": [
    {
     "data": {
      "text/html": [
       "<div>\n",
       "<style scoped>\n",
       "    .dataframe tbody tr th:only-of-type {\n",
       "        vertical-align: middle;\n",
       "    }\n",
       "\n",
       "    .dataframe tbody tr th {\n",
       "        vertical-align: top;\n",
       "    }\n",
       "\n",
       "    .dataframe thead th {\n",
       "        text-align: right;\n",
       "    }\n",
       "</style>\n",
       "<table border=\"1\" class=\"dataframe\">\n",
       "  <thead>\n",
       "    <tr style=\"text-align: right;\">\n",
       "      <th></th>\n",
       "      <th>session_type</th>\n",
       "      <th>labels</th>\n",
       "    </tr>\n",
       "  </thead>\n",
       "  <tbody>\n",
       "    <tr>\n",
       "      <th>0</th>\n",
       "      <td>12899779_clicks</td>\n",
       "      <td>129004 126836 118524</td>\n",
       "    </tr>\n",
       "    <tr>\n",
       "      <th>1</th>\n",
       "      <td>12899779_carts</td>\n",
       "      <td>129004 126836 118524</td>\n",
       "    </tr>\n",
       "    <tr>\n",
       "      <th>2</th>\n",
       "      <td>12899779_orders</td>\n",
       "      <td>129004 126836 118524</td>\n",
       "    </tr>\n",
       "    <tr>\n",
       "      <th>3</th>\n",
       "      <td>12899780_clicks</td>\n",
       "      <td>129004 126836 118524</td>\n",
       "    </tr>\n",
       "    <tr>\n",
       "      <th>4</th>\n",
       "      <td>12899780_carts</td>\n",
       "      <td>129004 126836 118524</td>\n",
       "    </tr>\n",
       "  </tbody>\n",
       "</table>\n",
       "</div>"
      ],
      "text/plain": [
       "      session_type                labels\n",
       "0  12899779_clicks  129004 126836 118524\n",
       "1   12899779_carts  129004 126836 118524\n",
       "2  12899779_orders  129004 126836 118524\n",
       "3  12899780_clicks  129004 126836 118524\n",
       "4   12899780_carts  129004 126836 118524"
      ]
     },
     "execution_count": 8,
     "metadata": {},
     "output_type": "execute_result"
    }
   ],
   "source": [
    "import pandas as pd\n",
    "\n",
    "# Read the CSV file into a DataFrame\n",
    "submit = pd.read_csv('data/sample_submission.csv')\n",
    "\n",
    "submit.head()\n"
   ]
  },
  {
   "cell_type": "code",
   "execution_count": 14,
   "id": "3ba8bdd7",
   "metadata": {},
   "outputs": [
    {
     "name": "stdout",
     "output_type": "stream",
     "text": [
      "<class 'pandas.core.frame.DataFrame'>\n",
      "RangeIndex: 5015409 entries, 0 to 5015408\n",
      "Data columns (total 2 columns):\n",
      " #   Column        Dtype \n",
      "---  ------        ----- \n",
      " 0   session_type  object\n",
      " 1   labels        object\n",
      "dtypes: object(2)\n",
      "memory usage: 76.5+ MB\n"
     ]
    }
   ],
   "source": [
    "submit.info()"
   ]
  },
  {
   "cell_type": "code",
   "execution_count": 15,
   "id": "ab8c6731",
   "metadata": {},
   "outputs": [
    {
     "data": {
      "text/html": [
       "<div>\n",
       "<style scoped>\n",
       "    .dataframe tbody tr th:only-of-type {\n",
       "        vertical-align: middle;\n",
       "    }\n",
       "\n",
       "    .dataframe tbody tr th {\n",
       "        vertical-align: top;\n",
       "    }\n",
       "\n",
       "    .dataframe thead th {\n",
       "        text-align: right;\n",
       "    }\n",
       "</style>\n",
       "<table border=\"1\" class=\"dataframe\">\n",
       "  <thead>\n",
       "    <tr style=\"text-align: right;\">\n",
       "      <th></th>\n",
       "      <th>session_type</th>\n",
       "      <th>labels</th>\n",
       "    </tr>\n",
       "  </thead>\n",
       "  <tbody>\n",
       "    <tr>\n",
       "      <th>0</th>\n",
       "      <td>12899779_clicks</td>\n",
       "      <td>1460571 485256 108125 29735 1733943 832192 184...</td>\n",
       "    </tr>\n",
       "    <tr>\n",
       "      <th>1</th>\n",
       "      <td>12899779_carts</td>\n",
       "      <td>1460571 485256 108125 29735 1733943 832192 184...</td>\n",
       "    </tr>\n",
       "    <tr>\n",
       "      <th>2</th>\n",
       "      <td>12899779_orders</td>\n",
       "      <td>1460571 485256 108125 29735 1733943 832192 184...</td>\n",
       "    </tr>\n",
       "    <tr>\n",
       "      <th>3</th>\n",
       "      <td>12899780_clicks</td>\n",
       "      <td>1460571 485256 108125 29735 1733943 832192 184...</td>\n",
       "    </tr>\n",
       "    <tr>\n",
       "      <th>4</th>\n",
       "      <td>12899780_carts</td>\n",
       "      <td>1460571 485256 108125 29735 1733943 832192 184...</td>\n",
       "    </tr>\n",
       "  </tbody>\n",
       "</table>\n",
       "</div>"
      ],
      "text/plain": [
       "      session_type                                             labels\n",
       "0  12899779_clicks  1460571 485256 108125 29735 1733943 832192 184...\n",
       "1   12899779_carts  1460571 485256 108125 29735 1733943 832192 184...\n",
       "2  12899779_orders  1460571 485256 108125 29735 1733943 832192 184...\n",
       "3  12899780_clicks  1460571 485256 108125 29735 1733943 832192 184...\n",
       "4   12899780_carts  1460571 485256 108125 29735 1733943 832192 184..."
      ]
     },
     "execution_count": 15,
     "metadata": {},
     "output_type": "execute_result"
    }
   ],
   "source": [
    "submit['labels'] = aids_str\n",
    "submit.head()"
   ]
  },
  {
   "cell_type": "code",
   "execution_count": 17,
   "id": "ef525f13",
   "metadata": {},
   "outputs": [
    {
     "data": {
      "text/plain": [
       "(5015409, 2)"
      ]
     },
     "execution_count": 17,
     "metadata": {},
     "output_type": "execute_result"
    }
   ],
   "source": [
    "submit.shape"
   ]
  },
  {
   "cell_type": "code",
   "execution_count": 20,
   "id": "de0667a0",
   "metadata": {},
   "outputs": [],
   "source": [
    "submit.to_csv('data/submission.csv', index=False, header=True)"
   ]
  },
  {
   "cell_type": "code",
   "execution_count": 21,
   "id": "abd939d2",
   "metadata": {},
   "outputs": [
    {
     "name": "stdout",
     "output_type": "stream",
     "text": [
      "Warning: Your Kaggle API key is readable by other users on this system! To fix this, you can run 'chmod 600 /home/darth/.kaggle/kaggle.json'\n",
      "100%|████████████████████████████████████████| 773M/773M [04:01<00:00, 3.36MB/s]\n",
      "Successfully submitted to OTTO – Multi-Objective Recommender System"
     ]
    }
   ],
   "source": [
    "!kaggle competitions submit -c otto-recommender-system -f data/submission.csv -m \"Message\""
   ]
  },
  {
   "cell_type": "code",
   "execution_count": null,
   "id": "205ab549",
   "metadata": {},
   "outputs": [],
   "source": []
  }
 ],
 "metadata": {
  "kernelspec": {
   "display_name": "Python 3 (ipykernel)",
   "language": "python",
   "name": "python3"
  },
  "language_info": {
   "codemirror_mode": {
    "name": "ipython",
    "version": 3
   },
   "file_extension": ".py",
   "mimetype": "text/x-python",
   "name": "python",
   "nbconvert_exporter": "python",
   "pygments_lexer": "ipython3",
   "version": "3.9.13"
  }
 },
 "nbformat": 4,
 "nbformat_minor": 5
}
