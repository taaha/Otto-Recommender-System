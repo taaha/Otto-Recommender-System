{
 "cells": [
  {
   "cell_type": "code",
   "execution_count": 1,
   "id": "82f6bf96",
   "metadata": {},
   "outputs": [],
   "source": [
    "import json\n",
    "import pandas as pd\n",
    "from tqdm import tqdm"
   ]
  },
  {
   "cell_type": "code",
   "execution_count": 14,
   "id": "d1af4656",
   "metadata": {},
   "outputs": [
    {
     "name": "stdout",
     "output_type": "stream",
     "text": [
      "{'session': 0, 'events': [{'aid': 1517085, 'type': 1}, {'aid': 1563459, 'type': 1}, {'aid': 1309446, 'type': 1}, {'aid': 16246, 'type': 1}, {'aid': 1781822, 'type': 1}, {'aid': 1152674, 'type': 1}, {'aid': 1649869, 'type': 3}, {'aid': 461689, 'type': 3}, {'aid': 305831, 'type': 5}, {'aid': 461689, 'type': 5}, {'aid': 362233, 'type': 1}, {'aid': 1649869, 'type': 1}, {'aid': 1649869, 'type': 1}, {'aid': 984597, 'type': 1}, {'aid': 1649869, 'type': 1}, {'aid': 803544, 'type': 1}, {'aid': 1110941, 'type': 1}, {'aid': 1190046, 'type': 1}, {'aid': 1760685, 'type': 1}, {'aid': 631008, 'type': 1}, {'aid': 461689, 'type': 1}, {'aid': 1190046, 'type': 1}, {'aid': 1650637, 'type': 1}, {'aid': 313546, 'type': 1}, {'aid': 1650637, 'type': 1}, {'aid': 979517, 'type': 1}, {'aid': 351157, 'type': 1}, {'aid': 1062149, 'type': 1}, {'aid': 1157384, 'type': 1}, {'aid': 1841388, 'type': 1}, {'aid': 1469630, 'type': 1}, {'aid': 305831, 'type': 1}, {'aid': 1110548, 'type': 1}, {'aid': 1110548, 'type': 1}, {'aid': 305831, 'type': 1}, {'aid': 1650114, 'type': 1}, {'aid': 1604396, 'type': 1}, {'aid': 1009750, 'type': 1}, {'aid': 1800933, 'type': 1}, {'aid': 495779, 'type': 1}, {'aid': 394655, 'type': 1}, {'aid': 495779, 'type': 1}, {'aid': 789245, 'type': 1}, {'aid': 789245, 'type': 3}, {'aid': 366890, 'type': 1}, {'aid': 361317, 'type': 1}, {'aid': 1700164, 'type': 1}, {'aid': 1755597, 'type': 1}, {'aid': 789245, 'type': 1}, {'aid': 784978, 'type': 1}, {'aid': 1171505, 'type': 1}, {'aid': 784978, 'type': 1}, {'aid': 1700164, 'type': 1}, {'aid': 784978, 'type': 1}, {'aid': 1521766, 'type': 1}, {'aid': 1725503, 'type': 1}, {'aid': 528847, 'type': 1}, {'aid': 1816325, 'type': 1}, {'aid': 984597, 'type': 1}, {'aid': 1072782, 'type': 1}, {'aid': 173702, 'type': 1}, {'aid': 1072782, 'type': 1}, {'aid': 1407538, 'type': 1}, {'aid': 1629651, 'type': 1}, {'aid': 1768568, 'type': 1}, {'aid': 1318324, 'type': 1}, {'aid': 1840418, 'type': 1}, {'aid': 1813509, 'type': 1}, {'aid': 1813509, 'type': 1}, {'aid': 667924, 'type': 1}, {'aid': 1226444, 'type': 1}, {'aid': 709550, 'type': 1}, {'aid': 709417, 'type': 1}, {'aid': 1225559, 'type': 1}, {'aid': 1048044, 'type': 1}, {'aid': 1052813, 'type': 1}, {'aid': 1225559, 'type': 1}, {'aid': 240346, 'type': 1}, {'aid': 1582117, 'type': 1}, {'aid': 1707783, 'type': 1}, {'aid': 1624436, 'type': 1}, {'aid': 1157411, 'type': 1}, {'aid': 358305, 'type': 1}, {'aid': 1202970, 'type': 1}, {'aid': 832192, 'type': 1}, {'aid': 1498443, 'type': 1}, {'aid': 723931, 'type': 1}, {'aid': 1436439, 'type': 1}, {'aid': 1693461, 'type': 1}, {'aid': 1206554, 'type': 1}, {'aid': 1110741, 'type': 1}, {'aid': 346352, 'type': 1}, {'aid': 1802050, 'type': 1}, {'aid': 154930, 'type': 1}, {'aid': 964169, 'type': 1}, {'aid': 964169, 'type': 1}, {'aid': 823637, 'type': 1}, {'aid': 964169, 'type': 1}, {'aid': 1411683, 'type': 1}, {'aid': 964169, 'type': 1}, {'aid': 1167722, 'type': 1}, {'aid': 964169, 'type': 1}, {'aid': 1619737, 'type': 1}, {'aid': 964169, 'type': 1}, {'aid': 1840615, 'type': 1}, {'aid': 512756, 'type': 1}, {'aid': 946219, 'type': 1}, {'aid': 1090479, 'type': 1}, {'aid': 1164387, 'type': 1}, {'aid': 1308544, 'type': 1}, {'aid': 719622, 'type': 1}, {'aid': 1750538, 'type': 1}, {'aid': 1443747, 'type': 1}, {'aid': 1750538, 'type': 1}, {'aid': 337364, 'type': 1}, {'aid': 1653945, 'type': 1}, {'aid': 1222638, 'type': 1}, {'aid': 1622987, 'type': 1}, {'aid': 608383, 'type': 1}, {'aid': 1460239, 'type': 1}, {'aid': 1436439, 'type': 1}, {'aid': 321397, 'type': 1}, {'aid': 828625, 'type': 1}, {'aid': 1624436, 'type': 1}, {'aid': 1157411, 'type': 1}, {'aid': 1537907, 'type': 1}, {'aid': 1070142, 'type': 1}, {'aid': 959208, 'type': 1}, {'aid': 275288, 'type': 1}, {'aid': 1318324, 'type': 1}, {'aid': 1072782, 'type': 1}, {'aid': 1072782, 'type': 1}, {'aid': 173702, 'type': 1}, {'aid': 1428075, 'type': 1}, {'aid': 892659, 'type': 1}, {'aid': 1127565, 'type': 1}, {'aid': 1072782, 'type': 1}, {'aid': 97836, 'type': 1}, {'aid': 384343, 'type': 1}, {'aid': 218130, 'type': 1}, {'aid': 294248, 'type': 1}, {'aid': 166547, 'type': 1}, {'aid': 504365, 'type': 1}, {'aid': 102416, 'type': 1}, {'aid': 30373, 'type': 1}, {'aid': 724999, 'type': 1}, {'aid': 1110548, 'type': 1}, {'aid': 10268, 'type': 1}, {'aid': 219925, 'type': 1}, {'aid': 1140855, 'type': 1}, {'aid': 915702, 'type': 1}, {'aid': 480578, 'type': 1}, {'aid': 1145803, 'type': 1}, {'aid': 480578, 'type': 1}, {'aid': 516456, 'type': 1}, {'aid': 536842, 'type': 1}, {'aid': 1446430, 'type': 1}, {'aid': 581169, 'type': 1}, {'aid': 976007, 'type': 1}, {'aid': 667322, 'type': 1}, {'aid': 1801525, 'type': 1}, {'aid': 1767945, 'type': 1}, {'aid': 1342014, 'type': 1}, {'aid': 1813509, 'type': 1}, {'aid': 1785321, 'type': 1}, {'aid': 1813509, 'type': 1}, {'aid': 1840615, 'type': 1}, {'aid': 1689148, 'type': 1}, {'aid': 1840615, 'type': 1}, {'aid': 72748, 'type': 1}, {'aid': 1049280, 'type': 1}, {'aid': 1436439, 'type': 1}, {'aid': 6851, 'type': 1}, {'aid': 1433235, 'type': 1}, {'aid': 7563, 'type': 1}, {'aid': 1766089, 'type': 1}, {'aid': 7563, 'type': 1}, {'aid': 570955, 'type': 1}, {'aid': 1766089, 'type': 1}, {'aid': 570955, 'type': 1}, {'aid': 974651, 'type': 3}, {'aid': 974651, 'type': 1}, {'aid': 974651, 'type': 3}, {'aid': 974651, 'type': 3}, {'aid': 280978, 'type': 3}, {'aid': 1521766, 'type': 3}, {'aid': 661144, 'type': 1}, {'aid': 1760145, 'type': 3}, {'aid': 1639229, 'type': 1}, {'aid': 1624436, 'type': 1}, {'aid': 738987, 'type': 1}, {'aid': 1436439, 'type': 1}, {'aid': 102416, 'type': 1}, {'aid': 190818, 'type': 1}, {'aid': 1157411, 'type': 1}, {'aid': 138431, 'type': 1}, {'aid': 543308, 'type': 1}, {'aid': 1760145, 'type': 1}, {'aid': 543308, 'type': 1}, {'aid': 275288, 'type': 3}, {'aid': 275288, 'type': 1}, {'aid': 1760145, 'type': 1}, {'aid': 974651, 'type': 1}, {'aid': 974651, 'type': 3}, {'aid': 1760145, 'type': 1}, {'aid': 570955, 'type': 1}, {'aid': 661144, 'type': 1}, {'aid': 362233, 'type': 1}, {'aid': 362233, 'type': 1}, {'aid': 1760145, 'type': 1}, {'aid': 275288, 'type': 1}, {'aid': 974651, 'type': 1}, {'aid': 543308, 'type': 1}, {'aid': 624343, 'type': 1}, {'aid': 543308, 'type': 1}, {'aid': 723612, 'type': 1}, {'aid': 543308, 'type': 1}, {'aid': 543308, 'type': 3}, {'aid': 543308, 'type': 3}, {'aid': 442293, 'type': 1}, {'aid': 442293, 'type': 3}, {'aid': 442293, 'type': 1}, {'aid': 442293, 'type': 1}, {'aid': 171073, 'type': 1}, {'aid': 851778, 'type': 1}, {'aid': 976134, 'type': 1}, {'aid': 856506, 'type': 1}, {'aid': 1549618, 'type': 3}, {'aid': 419161, 'type': 1}, {'aid': 543308, 'type': 1}, {'aid': 1549618, 'type': 1}, {'aid': 760277, 'type': 1}, {'aid': 1549618, 'type': 1}, {'aid': 702179, 'type': 1}, {'aid': 1549618, 'type': 1}, {'aid': 1587393, 'type': 1}, {'aid': 76358, 'type': 1}, {'aid': 1549618, 'type': 1}, {'aid': 1199474, 'type': 1}, {'aid': 1199474, 'type': 3}, {'aid': 1386923, 'type': 1}, {'aid': 1055124, 'type': 1}, {'aid': 859697, 'type': 1}, {'aid': 1055124, 'type': 1}, {'aid': 1386923, 'type': 1}, {'aid': 1199474, 'type': 5}, {'aid': 543308, 'type': 5}, {'aid': 961113, 'type': 1}, {'aid': 883849, 'type': 1}, {'aid': 701766, 'type': 1}, {'aid': 924751, 'type': 1}, {'aid': 168206, 'type': 1}, {'aid': 924751, 'type': 1}, {'aid': 219033, 'type': 1}, {'aid': 171982, 'type': 1}, {'aid': 1319939, 'type': 1}, {'aid': 1349536, 'type': 1}, {'aid': 334392, 'type': 1}, {'aid': 1349536, 'type': 1}, {'aid': 1349536, 'type': 1}, {'aid': 165096, 'type': 1}, {'aid': 315914, 'type': 1}, {'aid': 315914, 'type': 3}, {'aid': 1680276, 'type': 1}, {'aid': 1818905, 'type': 1}, {'aid': 334392, 'type': 1}, {'aid': 1048797, 'type': 1}, {'aid': 1048797, 'type': 1}, {'aid': 543308, 'type': 1}, {'aid': 341626, 'type': 1}, {'aid': 219925, 'type': 1}, {'aid': 843110, 'type': 1}, {'aid': 938007, 'type': 1}, {'aid': 1228848, 'type': 1}, {'aid': 1740927, 'type': 1}, {'aid': 161938, 'type': 1}]}\n",
      "{'session': 1, 'events': [{'aid': 424964, 'type': 3}, {'aid': 1492293, 'type': 1}, {'aid': 1492293, 'type': 3}, {'aid': 910862, 'type': 1}, {'aid': 910862, 'type': 3}, {'aid': 1491172, 'type': 1}, {'aid': 1491172, 'type': 3}, {'aid': 424964, 'type': 1}, {'aid': 1515526, 'type': 1}, {'aid': 440486, 'type': 1}, {'aid': 109488, 'type': 1}, {'aid': 1507622, 'type': 1}, {'aid': 1734061, 'type': 1}, {'aid': 854637, 'type': 1}, {'aid': 854637, 'type': 3}, {'aid': 718983, 'type': 1}, {'aid': 215311, 'type': 1}, {'aid': 215311, 'type': 3}, {'aid': 718983, 'type': 1}, {'aid': 711125, 'type': 1}, {'aid': 711125, 'type': 3}, {'aid': 50049, 'type': 1}, {'aid': 105393, 'type': 1}, {'aid': 105393, 'type': 3}, {'aid': 959544, 'type': 1}, {'aid': 1734061, 'type': 1}, {'aid': 1842593, 'type': 1}, {'aid': 1464360, 'type': 1}, {'aid': 207905, 'type': 1}, {'aid': 1628317, 'type': 1}, {'aid': 376932, 'type': 1}, {'aid': 497868, 'type': 1}]}\n",
      "{'session': 2, 'events': [{'aid': 763743, 'type': 1}, {'aid': 137492, 'type': 1}, {'aid': 504789, 'type': 1}, {'aid': 137492, 'type': 1}, {'aid': 795863, 'type': 1}, {'aid': 378348, 'type': 1}, {'aid': 795863, 'type': 1}, {'aid': 26638, 'type': 1}, {'aid': 817441, 'type': 1}, {'aid': 1405904, 'type': 1}, {'aid': 545290, 'type': 1}, {'aid': 935830, 'type': 1}, {'aid': 935830, 'type': 1}, {'aid': 1593105, 'type': 1}, {'aid': 427698, 'type': 1}, {'aid': 414004, 'type': 1}, {'aid': 465360, 'type': 1}, {'aid': 526287, 'type': 1}, {'aid': 567119, 'type': 1}, {'aid': 1577398, 'type': 1}, {'aid': 161269, 'type': 3}, {'aid': 1577398, 'type': 1}, {'aid': 78519, 'type': 1}, {'aid': 1605583, 'type': 1}, {'aid': 690631, 'type': 1}, {'aid': 295985, 'type': 1}, {'aid': 553269, 'type': 1}, {'aid': 555062, 'type': 1}, {'aid': 1605711, 'type': 1}, {'aid': 485582, 'type': 1}, {'aid': 477910, 'type': 1}, {'aid': 808782, 'type': 1}, {'aid': 672473, 'type': 1}]}\n",
      "{'session': 3, 'events': [{'aid': 1425967, 'type': 3}, {'aid': 1425967, 'type': 1}, {'aid': 1343406, 'type': 1}, {'aid': 1343406, 'type': 1}, {'aid': 1343406, 'type': 3}, {'aid': 1425967, 'type': 1}, {'aid': 1343406, 'type': 1}, {'aid': 1815570, 'type': 1}, {'aid': 287008, 'type': 1}, {'aid': 1343406, 'type': 1}, {'aid': 1425967, 'type': 1}, {'aid': 1809571, 'type': 1}, {'aid': 1089061, 'type': 1}, {'aid': 746072, 'type': 1}, {'aid': 1015324, 'type': 1}, {'aid': 1215662, 'type': 1}, {'aid': 1089061, 'type': 1}, {'aid': 1089061, 'type': 3}, {'aid': 1089061, 'type': 1}, {'aid': 357461, 'type': 5}, {'aid': 1343406, 'type': 5}, {'aid': 1425967, 'type': 5}, {'aid': 1425967, 'type': 1}, {'aid': 1343406, 'type': 1}, {'aid': 357461, 'type': 1}, {'aid': 357461, 'type': 1}, {'aid': 357461, 'type': 1}, {'aid': 1343406, 'type': 1}, {'aid': 1343406, 'type': 1}, {'aid': 1343406, 'type': 1}, {'aid': 1105267, 'type': 1}, {'aid': 1343406, 'type': 1}, {'aid': 392840, 'type': 1}, {'aid': 574683, 'type': 1}, {'aid': 825711, 'type': 1}, {'aid': 1622133, 'type': 1}, {'aid': 1065620, 'type': 1}, {'aid': 713701, 'type': 1}, {'aid': 1343406, 'type': 1}, {'aid': 1343406, 'type': 1}, {'aid': 1632093, 'type': 1}, {'aid': 1090485, 'type': 1}, {'aid': 1632093, 'type': 1}, {'aid': 1305368, 'type': 1}, {'aid': 968885, 'type': 1}, {'aid': 2512, 'type': 1}, {'aid': 1343406, 'type': 1}, {'aid': 357461, 'type': 1}, {'aid': 984459, 'type': 1}, {'aid': 984459, 'type': 3}, {'aid': 984459, 'type': 1}, {'aid': 622368, 'type': 1}, {'aid': 578649, 'type': 1}, {'aid': 1253857, 'type': 1}, {'aid': 1660613, 'type': 1}, {'aid': 1660613, 'type': 3}, {'aid': 840023, 'type': 1}, {'aid': 774320, 'type': 1}, {'aid': 300295, 'type': 1}, {'aid': 774320, 'type': 1}, {'aid': 774320, 'type': 3}, {'aid': 722275, 'type': 1}, {'aid': 979687, 'type': 1}, {'aid': 1402624, 'type': 1}, {'aid': 308831, 'type': 1}, {'aid': 308831, 'type': 1}, {'aid': 308831, 'type': 3}, {'aid': 471114, 'type': 1}, {'aid': 308831, 'type': 1}, {'aid': 127764, 'type': 1}, {'aid': 1018433, 'type': 1}, {'aid': 1018433, 'type': 3}, {'aid': 1018433, 'type': 1}, {'aid': 714724, 'type': 1}, {'aid': 714724, 'type': 3}, {'aid': 714724, 'type': 1}, {'aid': 1018433, 'type': 1}, {'aid': 714724, 'type': 1}, {'aid': 1221074, 'type': 1}, {'aid': 1171628, 'type': 1}, {'aid': 284722, 'type': 1}, {'aid': 490305, 'type': 1}, {'aid': 1436022, 'type': 1}, {'aid': 1198969, 'type': 1}, {'aid': 763925, 'type': 1}, {'aid': 880139, 'type': 1}, {'aid': 727609, 'type': 1}, {'aid': 528531, 'type': 1}, {'aid': 722275, 'type': 1}, {'aid': 1584672, 'type': 1}, {'aid': 526790, 'type': 1}, {'aid': 1554339, 'type': 1}, {'aid': 1554339, 'type': 3}, {'aid': 711446, 'type': 1}, {'aid': 128326, 'type': 1}, {'aid': 128326, 'type': 3}, {'aid': 128326, 'type': 1}, {'aid': 536803, 'type': 1}, {'aid': 1348328, 'type': 1}, {'aid': 74985, 'type': 1}, {'aid': 642154, 'type': 1}, {'aid': 705264, 'type': 1}, {'aid': 87629, 'type': 1}, {'aid': 1808351, 'type': 1}, {'aid': 1808351, 'type': 3}, {'aid': 1808351, 'type': 1}, {'aid': 749898, 'type': 1}, {'aid': 1772909, 'type': 1}, {'aid': 905009, 'type': 1}, {'aid': 284722, 'type': 1}, {'aid': 54857, 'type': 1}, {'aid': 54857, 'type': 3}, {'aid': 1528155, 'type': 1}, {'aid': 1712999, 'type': 1}, {'aid': 692635, 'type': 1}, {'aid': 1500975, 'type': 1}, {'aid': 771063, 'type': 1}, {'aid': 547781, 'type': 1}, {'aid': 692635, 'type': 1}, {'aid': 54857, 'type': 1}, {'aid': 1002270, 'type': 1}, {'aid': 254870, 'type': 1}, {'aid': 1504981, 'type': 1}, {'aid': 1504981, 'type': 3}, {'aid': 254870, 'type': 1}, {'aid': 1504981, 'type': 1}, {'aid': 1377572, 'type': 1}, {'aid': 1009427, 'type': 1}, {'aid': 1712999, 'type': 1}, {'aid': 1712999, 'type': 3}, {'aid': 54857, 'type': 1}, {'aid': 1712999, 'type': 1}, {'aid': 1712999, 'type': 1}, {'aid': 54857, 'type': 1}, {'aid': 1712999, 'type': 1}, {'aid': 54857, 'type': 1}, {'aid': 1712999, 'type': 1}, {'aid': 54857, 'type': 1}, {'aid': 1018433, 'type': 1}, {'aid': 54857, 'type': 1}, {'aid': 54857, 'type': 1}, {'aid': 1018433, 'type': 1}, {'aid': 1143262, 'type': 1}, {'aid': 836094, 'type': 1}, {'aid': 1498272, 'type': 1}, {'aid': 3999, 'type': 1}, {'aid': 1359109, 'type': 1}, {'aid': 1119655, 'type': 1}, {'aid': 708908, 'type': 1}, {'aid': 588531, 'type': 1}, {'aid': 116139, 'type': 1}, {'aid': 116139, 'type': 3}, {'aid': 96976, 'type': 1}, {'aid': 116139, 'type': 1}, {'aid': 1498013, 'type': 1}, {'aid': 332817, 'type': 1}, {'aid': 332817, 'type': 3}, {'aid': 812246, 'type': 1}, {'aid': 812246, 'type': 3}, {'aid': 822461, 'type': 1}, {'aid': 636903, 'type': 1}, {'aid': 172698, 'type': 1}, {'aid': 1533194, 'type': 1}, {'aid': 1802976, 'type': 1}, {'aid': 360657, 'type': 1}, {'aid': 1111431, 'type': 1}, {'aid': 172051, 'type': 1}, {'aid': 340594, 'type': 1}, {'aid': 123362, 'type': 1}, {'aid': 1633901, 'type': 1}, {'aid': 88711, 'type': 1}, {'aid': 1325760, 'type': 1}, {'aid': 1202088, 'type': 1}, {'aid': 672286, 'type': 1}, {'aid': 614085, 'type': 1}, {'aid': 1713400, 'type': 1}, {'aid': 1748862, 'type': 1}, {'aid': 108125, 'type': 1}, {'aid': 1332980, 'type': 1}, {'aid': 93934, 'type': 1}, {'aid': 532565, 'type': 1}, {'aid': 1282243, 'type': 1}, {'aid': 1708257, 'type': 1}, {'aid': 37450, 'type': 1}, {'aid': 33731, 'type': 1}, {'aid': 546144, 'type': 1}, {'aid': 1175830, 'type': 1}, {'aid': 1152906, 'type': 1}, {'aid': 1754057, 'type': 1}, {'aid': 1443710, 'type': 1}, {'aid': 1001000, 'type': 1}, {'aid': 1124086, 'type': 1}, {'aid': 1278281, 'type': 1}, {'aid': 1536010, 'type': 1}, {'aid': 904809, 'type': 1}, {'aid': 659496, 'type': 1}, {'aid': 1799121, 'type': 1}, {'aid': 693368, 'type': 1}, {'aid': 1018433, 'type': 5}, {'aid': 54857, 'type': 5}, {'aid': 618373, 'type': 1}, {'aid': 618373, 'type': 1}, {'aid': 618373, 'type': 1}, {'aid': 1018433, 'type': 1}, {'aid': 54857, 'type': 1}, {'aid': 54857, 'type': 1}, {'aid': 282175, 'type': 1}, {'aid': 1061225, 'type': 1}, {'aid': 802541, 'type': 1}, {'aid': 802541, 'type': 1}, {'aid': 1397226, 'type': 1}, {'aid': 1397226, 'type': 1}, {'aid': 1638009, 'type': 1}, {'aid': 1638009, 'type': 3}, {'aid': 656980, 'type': 1}, {'aid': 466658, 'type': 1}, {'aid': 1251514, 'type': 1}, {'aid': 1261998, 'type': 1}, {'aid': 1261998, 'type': 3}, {'aid': 1575102, 'type': 1}, {'aid': 1575102, 'type': 1}, {'aid': 1261998, 'type': 1}, {'aid': 1431783, 'type': 1}, {'aid': 925352, 'type': 1}, {'aid': 925352, 'type': 1}, {'aid': 925352, 'type': 3}]}\n",
      "{'session': 4, 'events': [{'aid': 613619, 'type': 1}, {'aid': 298827, 'type': 1}, {'aid': 298827, 'type': 5}, {'aid': 383828, 'type': 1}, {'aid': 255379, 'type': 1}, {'aid': 1838173, 'type': 1}, {'aid': 1453726, 'type': 1}, {'aid': 1838173, 'type': 1}, {'aid': 255379, 'type': 1}, {'aid': 383828, 'type': 1}, {'aid': 1554752, 'type': 1}, {'aid': 1554752, 'type': 3}, {'aid': 917213, 'type': 1}, {'aid': 917213, 'type': 3}, {'aid': 758750, 'type': 1}, {'aid': 758750, 'type': 3}, {'aid': 678521, 'type': 1}, {'aid': 1081407, 'type': 1}, {'aid': 479396, 'type': 1}]}\n"
     ]
    }
   ],
   "source": [
    "# Open the file\n",
    "with open('data/train_1.jsonl') as f:\n",
    "    # Read in the first few lines of the file\n",
    "    for i, line in enumerate(f):\n",
    "        # Load the JSON object from the line\n",
    "        data = json.loads(line)\n",
    "        # Print the JSON object\n",
    "        print(data)\n",
    "        # Stop after printing a certain number of lines\n",
    "        if i == 4:\n",
    "            break\n"
   ]
  },
  {
   "cell_type": "code",
   "execution_count": null,
   "id": "e37f2665",
   "metadata": {},
   "outputs": [],
   "source": []
  },
  {
   "cell_type": "code",
   "execution_count": null,
   "id": "8871c0dd",
   "metadata": {},
   "outputs": [],
   "source": []
  },
  {
   "cell_type": "code",
   "execution_count": 6,
   "id": "75b81e1b",
   "metadata": {},
   "outputs": [
    {
     "name": "stderr",
     "output_type": "stream",
     "text": [
      "0it [00:00, ?it/s]\n"
     ]
    },
    {
     "ename": "KeyError",
     "evalue": "'event'",
     "output_type": "error",
     "traceback": [
      "\u001b[0;31m---------------------------------------------------------------------------\u001b[0m",
      "\u001b[0;31mKeyError\u001b[0m                                  Traceback (most recent call last)",
      "\u001b[0;32m/tmp/ipykernel_5174/358548569.py\u001b[0m in \u001b[0;36m<module>\u001b[0;34m\u001b[0m\n\u001b[1;32m      8\u001b[0m         \u001b[0mdata\u001b[0m \u001b[0;34m=\u001b[0m \u001b[0mjson\u001b[0m\u001b[0;34m.\u001b[0m\u001b[0mloads\u001b[0m\u001b[0;34m(\u001b[0m\u001b[0mline\u001b[0m\u001b[0;34m)\u001b[0m\u001b[0;34m\u001b[0m\u001b[0;34m\u001b[0m\u001b[0m\n\u001b[1;32m      9\u001b[0m         \u001b[0;31m#print(data)\u001b[0m\u001b[0;34m\u001b[0m\u001b[0;34m\u001b[0m\u001b[0m\n\u001b[0;32m---> 10\u001b[0;31m         \u001b[0;32mfor\u001b[0m \u001b[0mevent\u001b[0m \u001b[0;32min\u001b[0m \u001b[0mdata\u001b[0m\u001b[0;34m[\u001b[0m\u001b[0;34m'event'\u001b[0m\u001b[0;34m]\u001b[0m\u001b[0;34m:\u001b[0m\u001b[0;34m\u001b[0m\u001b[0;34m\u001b[0m\u001b[0m\n\u001b[0m\u001b[1;32m     11\u001b[0m             \u001b[0;32mdel\u001b[0m \u001b[0mevent\u001b[0m\u001b[0;34m[\u001b[0m\u001b[0;34m'ts'\u001b[0m\u001b[0;34m]\u001b[0m\u001b[0;34m\u001b[0m\u001b[0;34m\u001b[0m\u001b[0m\n\u001b[1;32m     12\u001b[0m         \u001b[0;31m# Remove the \"ts\" field\u001b[0m\u001b[0;34m\u001b[0m\u001b[0;34m\u001b[0m\u001b[0m\n",
      "\u001b[0;31mKeyError\u001b[0m: 'event'"
     ]
    }
   ],
   "source": [
    "import json\n",
    "\n",
    "# Open the input and output files\n",
    "with open('data/train.jsonl') as infile, open('data/train_1.jsonl', 'w') as outfile:\n",
    "    # Iterate through each line in the input file\n",
    "    for line in tqdm(infile):\n",
    "        # Load the JSON object from the line\n",
    "        data = json.loads(line)\n",
    "        #print(data)\n",
    "        for event in data['event']:\n",
    "            del event['ts']\n",
    "        # Remove the \"ts\" field\n",
    "        #del data['ts']\n",
    "        # Write the modified JSON object to the output file\n",
    "        json.dump(data, outfile)\n",
    "        outfile.write('\\n')"
   ]
  },
  {
   "cell_type": "code",
   "execution_count": 10,
   "id": "543eafed",
   "metadata": {},
   "outputs": [
    {
     "data": {
      "text/plain": [
       "[{'aid': 1517085, 'ts': 1659304800025, 'type': 'clicks'},\n",
       " {'aid': 1563459, 'ts': 1659304904511, 'type': 'clicks'},\n",
       " {'aid': 1309446, 'ts': 1659367439426, 'type': 'clicks'},\n",
       " {'aid': 16246, 'ts': 1659367719997, 'type': 'clicks'},\n",
       " {'aid': 1781822, 'ts': 1659367871344, 'type': 'clicks'},\n",
       " {'aid': 1152674, 'ts': 1659367885796, 'type': 'clicks'},\n",
       " {'aid': 1649869, 'ts': 1659369893840, 'type': 'carts'},\n",
       " {'aid': 461689, 'ts': 1659369898050, 'type': 'carts'},\n",
       " {'aid': 305831, 'ts': 1659370027105, 'type': 'orders'},\n",
       " {'aid': 461689, 'ts': 1659370027105, 'type': 'orders'},\n",
       " {'aid': 362233, 'ts': 1659370064916, 'type': 'clicks'},\n",
       " {'aid': 1649869, 'ts': 1659370067686, 'type': 'clicks'},\n",
       " {'aid': 1649869, 'ts': 1659371003682, 'type': 'clicks'},\n",
       " {'aid': 984597, 'ts': 1659371033243, 'type': 'clicks'},\n",
       " {'aid': 1649869, 'ts': 1659371042297, 'type': 'clicks'},\n",
       " {'aid': 803544, 'ts': 1659371044075, 'type': 'clicks'},\n",
       " {'aid': 1110941, 'ts': 1659371104329, 'type': 'clicks'},\n",
       " {'aid': 1190046, 'ts': 1659371123063, 'type': 'clicks'},\n",
       " {'aid': 1760685, 'ts': 1659375531385, 'type': 'clicks'},\n",
       " {'aid': 631008, 'ts': 1659375544399, 'type': 'clicks'},\n",
       " {'aid': 461689, 'ts': 1659380437483, 'type': 'clicks'},\n",
       " {'aid': 1190046, 'ts': 1659385092507, 'type': 'clicks'},\n",
       " {'aid': 1650637, 'ts': 1659457550038, 'type': 'clicks'},\n",
       " {'aid': 313546, 'ts': 1659457555000, 'type': 'clicks'},\n",
       " {'aid': 1650637, 'ts': 1659457556864, 'type': 'clicks'},\n",
       " {'aid': 979517, 'ts': 1659457682485, 'type': 'clicks'},\n",
       " {'aid': 351157, 'ts': 1659457782214, 'type': 'clicks'},\n",
       " {'aid': 1062149, 'ts': 1659457834849, 'type': 'clicks'},\n",
       " {'aid': 1157384, 'ts': 1659457854818, 'type': 'clicks'},\n",
       " {'aid': 1841388, 'ts': 1659457862516, 'type': 'clicks'},\n",
       " {'aid': 1469630, 'ts': 1659531937070, 'type': 'clicks'},\n",
       " {'aid': 305831, 'ts': 1659626326984, 'type': 'clicks'},\n",
       " {'aid': 1110548, 'ts': 1659626335719, 'type': 'clicks'},\n",
       " {'aid': 1110548, 'ts': 1659627788270, 'type': 'clicks'},\n",
       " {'aid': 305831, 'ts': 1659627805792, 'type': 'clicks'},\n",
       " {'aid': 1650114, 'ts': 1659632910630, 'type': 'clicks'},\n",
       " {'aid': 1604396, 'ts': 1659639917844, 'type': 'clicks'},\n",
       " {'aid': 1009750, 'ts': 1659640759156, 'type': 'clicks'},\n",
       " {'aid': 1800933, 'ts': 1659640798950, 'type': 'clicks'},\n",
       " {'aid': 495779, 'ts': 1659640818182, 'type': 'clicks'},\n",
       " {'aid': 394655, 'ts': 1659640824817, 'type': 'clicks'},\n",
       " {'aid': 495779, 'ts': 1659644609064, 'type': 'clicks'},\n",
       " {'aid': 789245, 'ts': 1659710146448, 'type': 'clicks'},\n",
       " {'aid': 789245, 'ts': 1659710157188, 'type': 'carts'},\n",
       " {'aid': 366890, 'ts': 1659710161039, 'type': 'clicks'},\n",
       " {'aid': 361317, 'ts': 1659710180137, 'type': 'clicks'},\n",
       " {'aid': 1700164, 'ts': 1659710277855, 'type': 'clicks'},\n",
       " {'aid': 1755597, 'ts': 1659710348943, 'type': 'clicks'},\n",
       " {'aid': 789245, 'ts': 1659710506088, 'type': 'clicks'},\n",
       " {'aid': 784978, 'ts': 1659710544821, 'type': 'clicks'},\n",
       " {'aid': 1171505, 'ts': 1659710615253, 'type': 'clicks'},\n",
       " {'aid': 784978, 'ts': 1659710636756, 'type': 'clicks'},\n",
       " {'aid': 1700164, 'ts': 1659710643493, 'type': 'clicks'},\n",
       " {'aid': 784978, 'ts': 1659710660397, 'type': 'clicks'},\n",
       " {'aid': 1521766, 'ts': 1659729979807, 'type': 'clicks'},\n",
       " {'aid': 1725503, 'ts': 1659774028031, 'type': 'clicks'},\n",
       " {'aid': 528847, 'ts': 1659774232119, 'type': 'clicks'},\n",
       " {'aid': 1816325, 'ts': 1659774337835, 'type': 'clicks'},\n",
       " {'aid': 984597, 'ts': 1659774357892, 'type': 'clicks'},\n",
       " {'aid': 1072782, 'ts': 1659775873688, 'type': 'clicks'},\n",
       " {'aid': 173702, 'ts': 1659775934223, 'type': 'clicks'},\n",
       " {'aid': 1072782, 'ts': 1659775940204, 'type': 'clicks'},\n",
       " {'aid': 1407538, 'ts': 1659894272577, 'type': 'clicks'},\n",
       " {'aid': 1629651, 'ts': 1659964140685, 'type': 'clicks'},\n",
       " {'aid': 1768568, 'ts': 1660015113752, 'type': 'clicks'},\n",
       " {'aid': 1318324, 'ts': 1660015128071, 'type': 'clicks'},\n",
       " {'aid': 1840418, 'ts': 1660024261875, 'type': 'clicks'},\n",
       " {'aid': 1813509, 'ts': 1660024355795, 'type': 'clicks'},\n",
       " {'aid': 1813509, 'ts': 1660024376430, 'type': 'clicks'},\n",
       " {'aid': 667924, 'ts': 1660024473559, 'type': 'clicks'},\n",
       " {'aid': 1226444, 'ts': 1660024558718, 'type': 'clicks'},\n",
       " {'aid': 709550, 'ts': 1660051792855, 'type': 'clicks'},\n",
       " {'aid': 709417, 'ts': 1660051861065, 'type': 'clicks'},\n",
       " {'aid': 1225559, 'ts': 1660051954808, 'type': 'clicks'},\n",
       " {'aid': 1048044, 'ts': 1660051960145, 'type': 'clicks'},\n",
       " {'aid': 1052813, 'ts': 1660051970995, 'type': 'clicks'},\n",
       " {'aid': 1225559, 'ts': 1660157753080, 'type': 'clicks'},\n",
       " {'aid': 240346, 'ts': 1660157783198, 'type': 'clicks'},\n",
       " {'aid': 1582117, 'ts': 1660244973157, 'type': 'clicks'},\n",
       " {'aid': 1707783, 'ts': 1660397387901, 'type': 'clicks'},\n",
       " {'aid': 1624436, 'ts': 1660427603773, 'type': 'clicks'},\n",
       " {'aid': 1157411, 'ts': 1660427638022, 'type': 'clicks'},\n",
       " {'aid': 358305, 'ts': 1660427747431, 'type': 'clicks'},\n",
       " {'aid': 1202970, 'ts': 1660487679331, 'type': 'clicks'},\n",
       " {'aid': 832192, 'ts': 1660503007938, 'type': 'clicks'},\n",
       " {'aid': 1498443, 'ts': 1660503022035, 'type': 'clicks'},\n",
       " {'aid': 723931, 'ts': 1660544235597, 'type': 'clicks'},\n",
       " {'aid': 1436439, 'ts': 1660544269960, 'type': 'clicks'},\n",
       " {'aid': 1693461, 'ts': 1660544287455, 'type': 'clicks'},\n",
       " {'aid': 1206554, 'ts': 1660544299221, 'type': 'clicks'},\n",
       " {'aid': 1110741, 'ts': 1660546139893, 'type': 'clicks'},\n",
       " {'aid': 346352, 'ts': 1660546161409, 'type': 'clicks'},\n",
       " {'aid': 1802050, 'ts': 1660546183298, 'type': 'clicks'},\n",
       " {'aid': 154930, 'ts': 1660546209381, 'type': 'clicks'},\n",
       " {'aid': 964169, 'ts': 1660546305529, 'type': 'clicks'},\n",
       " {'aid': 964169, 'ts': 1660560966498, 'type': 'clicks'},\n",
       " {'aid': 823637, 'ts': 1660561030556, 'type': 'clicks'},\n",
       " {'aid': 964169, 'ts': 1660561080714, 'type': 'clicks'},\n",
       " {'aid': 1411683, 'ts': 1660561089802, 'type': 'clicks'},\n",
       " {'aid': 964169, 'ts': 1660561117871, 'type': 'clicks'},\n",
       " {'aid': 1167722, 'ts': 1660561126514, 'type': 'clicks'},\n",
       " {'aid': 964169, 'ts': 1660561134273, 'type': 'clicks'},\n",
       " {'aid': 1619737, 'ts': 1660561148997, 'type': 'clicks'},\n",
       " {'aid': 964169, 'ts': 1660561164172, 'type': 'clicks'},\n",
       " {'aid': 1840615, 'ts': 1660561171658, 'type': 'clicks'},\n",
       " {'aid': 512756, 'ts': 1660609863481, 'type': 'clicks'},\n",
       " {'aid': 946219, 'ts': 1660610026720, 'type': 'clicks'},\n",
       " {'aid': 1090479, 'ts': 1660610071104, 'type': 'clicks'},\n",
       " {'aid': 1164387, 'ts': 1660610121763, 'type': 'clicks'},\n",
       " {'aid': 1308544, 'ts': 1660610152804, 'type': 'clicks'},\n",
       " {'aid': 719622, 'ts': 1660628330847, 'type': 'clicks'},\n",
       " {'aid': 1750538, 'ts': 1660628368623, 'type': 'clicks'},\n",
       " {'aid': 1443747, 'ts': 1660628405346, 'type': 'clicks'},\n",
       " {'aid': 1750538, 'ts': 1660628462681, 'type': 'clicks'},\n",
       " {'aid': 337364, 'ts': 1660664901829, 'type': 'clicks'},\n",
       " {'aid': 1653945, 'ts': 1660664961835, 'type': 'clicks'},\n",
       " {'aid': 1222638, 'ts': 1660665033172, 'type': 'clicks'},\n",
       " {'aid': 1622987, 'ts': 1660665303865, 'type': 'clicks'},\n",
       " {'aid': 608383, 'ts': 1660665647387, 'type': 'clicks'},\n",
       " {'aid': 1460239, 'ts': 1660739325748, 'type': 'clicks'},\n",
       " {'aid': 1436439, 'ts': 1660739348796, 'type': 'clicks'},\n",
       " {'aid': 321397, 'ts': 1660743499983, 'type': 'clicks'},\n",
       " {'aid': 828625, 'ts': 1660743606777, 'type': 'clicks'},\n",
       " {'aid': 1624436, 'ts': 1660744083719, 'type': 'clicks'},\n",
       " {'aid': 1157411, 'ts': 1660744125198, 'type': 'clicks'},\n",
       " {'aid': 1537907, 'ts': 1660744194187, 'type': 'clicks'},\n",
       " {'aid': 1070142, 'ts': 1660744220834, 'type': 'clicks'},\n",
       " {'aid': 959208, 'ts': 1660762627101, 'type': 'clicks'},\n",
       " {'aid': 275288, 'ts': 1660801729835, 'type': 'clicks'},\n",
       " {'aid': 1318324, 'ts': 1660801799774, 'type': 'clicks'},\n",
       " {'aid': 1072782, 'ts': 1660801833403, 'type': 'clicks'},\n",
       " {'aid': 1072782, 'ts': 1660801845183, 'type': 'clicks'},\n",
       " {'aid': 173702, 'ts': 1660801854389, 'type': 'clicks'},\n",
       " {'aid': 1428075, 'ts': 1660835311717, 'type': 'clicks'},\n",
       " {'aid': 892659, 'ts': 1660895211775, 'type': 'clicks'},\n",
       " {'aid': 1127565, 'ts': 1660895222884, 'type': 'clicks'},\n",
       " {'aid': 1072782, 'ts': 1660895259741, 'type': 'clicks'},\n",
       " {'aid': 97836, 'ts': 1660895309293, 'type': 'clicks'},\n",
       " {'aid': 384343, 'ts': 1660983402330, 'type': 'clicks'},\n",
       " {'aid': 218130, 'ts': 1661017911485, 'type': 'clicks'},\n",
       " {'aid': 294248, 'ts': 1661017946037, 'type': 'clicks'},\n",
       " {'aid': 166547, 'ts': 1661017956449, 'type': 'clicks'},\n",
       " {'aid': 504365, 'ts': 1661017998816, 'type': 'clicks'},\n",
       " {'aid': 102416, 'ts': 1661019639174, 'type': 'clicks'},\n",
       " {'aid': 30373, 'ts': 1661103687164, 'type': 'clicks'},\n",
       " {'aid': 724999, 'ts': 1661103701418, 'type': 'clicks'},\n",
       " {'aid': 1110548, 'ts': 1661103727767, 'type': 'clicks'},\n",
       " {'aid': 10268, 'ts': 1661157951797, 'type': 'clicks'},\n",
       " {'aid': 219925, 'ts': 1661157962188, 'type': 'clicks'},\n",
       " {'aid': 1140855, 'ts': 1661157993281, 'type': 'clicks'},\n",
       " {'aid': 915702, 'ts': 1661158034888, 'type': 'clicks'},\n",
       " {'aid': 480578, 'ts': 1661158090652, 'type': 'clicks'},\n",
       " {'aid': 1145803, 'ts': 1661158184827, 'type': 'clicks'},\n",
       " {'aid': 480578, 'ts': 1661158189101, 'type': 'clicks'},\n",
       " {'aid': 516456, 'ts': 1661158253105, 'type': 'clicks'},\n",
       " {'aid': 536842, 'ts': 1661158285058, 'type': 'clicks'},\n",
       " {'aid': 1446430, 'ts': 1661206127572, 'type': 'clicks'},\n",
       " {'aid': 581169, 'ts': 1661240249947, 'type': 'clicks'},\n",
       " {'aid': 976007, 'ts': 1661240257635, 'type': 'clicks'},\n",
       " {'aid': 667322, 'ts': 1661240281936, 'type': 'clicks'},\n",
       " {'aid': 1801525, 'ts': 1661240292181, 'type': 'clicks'},\n",
       " {'aid': 1767945, 'ts': 1661240318161, 'type': 'clicks'},\n",
       " {'aid': 1342014, 'ts': 1661240345599, 'type': 'clicks'},\n",
       " {'aid': 1813509, 'ts': 1661289160324, 'type': 'clicks'},\n",
       " {'aid': 1785321, 'ts': 1661289218136, 'type': 'clicks'},\n",
       " {'aid': 1813509, 'ts': 1661289227315, 'type': 'clicks'},\n",
       " {'aid': 1840615, 'ts': 1661289238313, 'type': 'clicks'},\n",
       " {'aid': 1689148, 'ts': 1661289299389, 'type': 'clicks'},\n",
       " {'aid': 1840615, 'ts': 1661289311093, 'type': 'clicks'},\n",
       " {'aid': 72748, 'ts': 1661326681916, 'type': 'clicks'},\n",
       " {'aid': 1049280, 'ts': 1661326752479, 'type': 'clicks'},\n",
       " {'aid': 1436439, 'ts': 1661326789241, 'type': 'clicks'},\n",
       " {'aid': 6851, 'ts': 1661326818142, 'type': 'clicks'},\n",
       " {'aid': 1433235, 'ts': 1661326995238, 'type': 'clicks'},\n",
       " {'aid': 7563, 'ts': 1661336115924, 'type': 'clicks'},\n",
       " {'aid': 1766089, 'ts': 1661336145432, 'type': 'clicks'},\n",
       " {'aid': 7563, 'ts': 1661336153894, 'type': 'clicks'},\n",
       " {'aid': 570955, 'ts': 1661336161993, 'type': 'clicks'},\n",
       " {'aid': 1766089, 'ts': 1661336182348, 'type': 'clicks'},\n",
       " {'aid': 570955, 'ts': 1661336206826, 'type': 'clicks'},\n",
       " {'aid': 974651, 'ts': 1661336218155, 'type': 'carts'},\n",
       " {'aid': 974651, 'ts': 1661336222447, 'type': 'clicks'},\n",
       " {'aid': 974651, 'ts': 1661336225076, 'type': 'carts'},\n",
       " {'aid': 974651, 'ts': 1661336252514, 'type': 'carts'},\n",
       " {'aid': 280978, 'ts': 1661336260024, 'type': 'carts'},\n",
       " {'aid': 1521766, 'ts': 1661336265942, 'type': 'carts'},\n",
       " {'aid': 661144, 'ts': 1661377452536, 'type': 'clicks'},\n",
       " {'aid': 1760145, 'ts': 1661377467092, 'type': 'carts'},\n",
       " {'aid': 1639229, 'ts': 1661377507795, 'type': 'clicks'},\n",
       " {'aid': 1624436, 'ts': 1661377547329, 'type': 'clicks'},\n",
       " {'aid': 738987, 'ts': 1661377571633, 'type': 'clicks'},\n",
       " {'aid': 1436439, 'ts': 1661422036465, 'type': 'clicks'},\n",
       " {'aid': 102416, 'ts': 1661441640992, 'type': 'clicks'},\n",
       " {'aid': 190818, 'ts': 1661547489220, 'type': 'clicks'},\n",
       " {'aid': 1157411, 'ts': 1661547534713, 'type': 'clicks'},\n",
       " {'aid': 138431, 'ts': 1661547574171, 'type': 'clicks'},\n",
       " {'aid': 543308, 'ts': 1661547622300, 'type': 'clicks'},\n",
       " {'aid': 1760145, 'ts': 1661547680429, 'type': 'clicks'},\n",
       " {'aid': 543308, 'ts': 1661547702839, 'type': 'clicks'},\n",
       " {'aid': 275288, 'ts': 1661550299698, 'type': 'carts'},\n",
       " {'aid': 275288, 'ts': 1661550315976, 'type': 'clicks'},\n",
       " {'aid': 1760145, 'ts': 1661550323287, 'type': 'clicks'},\n",
       " {'aid': 974651, 'ts': 1661550339661, 'type': 'clicks'},\n",
       " {'aid': 974651, 'ts': 1661550341792, 'type': 'carts'},\n",
       " {'aid': 1760145, 'ts': 1661550346913, 'type': 'clicks'},\n",
       " {'aid': 570955, 'ts': 1661550376132, 'type': 'clicks'},\n",
       " {'aid': 661144, 'ts': 1661550391128, 'type': 'clicks'},\n",
       " {'aid': 362233, 'ts': 1661551907312, 'type': 'clicks'},\n",
       " {'aid': 362233, 'ts': 1661551914311, 'type': 'clicks'},\n",
       " {'aid': 1760145, 'ts': 1661551920731, 'type': 'clicks'},\n",
       " {'aid': 275288, 'ts': 1661551929652, 'type': 'clicks'},\n",
       " {'aid': 974651, 'ts': 1661551935480, 'type': 'clicks'},\n",
       " {'aid': 543308, 'ts': 1661551961976, 'type': 'clicks'},\n",
       " {'aid': 624343, 'ts': 1661552027429, 'type': 'clicks'},\n",
       " {'aid': 543308, 'ts': 1661552069889, 'type': 'clicks'},\n",
       " {'aid': 723612, 'ts': 1661552073985, 'type': 'clicks'},\n",
       " {'aid': 543308, 'ts': 1661552079343, 'type': 'clicks'},\n",
       " {'aid': 543308, 'ts': 1661552090532, 'type': 'carts'},\n",
       " {'aid': 543308, 'ts': 1661552094001, 'type': 'carts'},\n",
       " {'aid': 442293, 'ts': 1661552175174, 'type': 'clicks'},\n",
       " {'aid': 442293, 'ts': 1661552201727, 'type': 'carts'},\n",
       " {'aid': 442293, 'ts': 1661552224613, 'type': 'clicks'},\n",
       " {'aid': 442293, 'ts': 1661552237234, 'type': 'clicks'},\n",
       " {'aid': 171073, 'ts': 1661552249672, 'type': 'clicks'},\n",
       " {'aid': 851778, 'ts': 1661552276235, 'type': 'clicks'},\n",
       " {'aid': 976134, 'ts': 1661552295471, 'type': 'clicks'},\n",
       " {'aid': 856506, 'ts': 1661552321092, 'type': 'clicks'},\n",
       " {'aid': 1549618, 'ts': 1661552356671, 'type': 'carts'},\n",
       " {'aid': 419161, 'ts': 1661552370948, 'type': 'clicks'},\n",
       " {'aid': 543308, 'ts': 1661552394168, 'type': 'clicks'},\n",
       " {'aid': 1549618, 'ts': 1661552536107, 'type': 'clicks'},\n",
       " {'aid': 760277, 'ts': 1661552615456, 'type': 'clicks'},\n",
       " {'aid': 1549618, 'ts': 1661552638423, 'type': 'clicks'},\n",
       " {'aid': 702179, 'ts': 1661552645018, 'type': 'clicks'},\n",
       " {'aid': 1549618, 'ts': 1661552648034, 'type': 'clicks'},\n",
       " {'aid': 1587393, 'ts': 1661552650883, 'type': 'clicks'},\n",
       " {'aid': 76358, 'ts': 1661552661754, 'type': 'clicks'},\n",
       " {'aid': 1549618, 'ts': 1661552673593, 'type': 'clicks'},\n",
       " {'aid': 1199474, 'ts': 1661552684092, 'type': 'clicks'},\n",
       " {'aid': 1199474, 'ts': 1661552744284, 'type': 'carts'},\n",
       " {'aid': 1386923, 'ts': 1661552755361, 'type': 'clicks'},\n",
       " {'aid': 1055124, 'ts': 1661552768406, 'type': 'clicks'},\n",
       " {'aid': 859697, 'ts': 1661552785728, 'type': 'clicks'},\n",
       " {'aid': 1055124, 'ts': 1661552791386, 'type': 'clicks'},\n",
       " {'aid': 1386923, 'ts': 1661552794455, 'type': 'clicks'},\n",
       " {'aid': 1199474, 'ts': 1661552940651, 'type': 'orders'},\n",
       " {'aid': 543308, 'ts': 1661552940651, 'type': 'orders'},\n",
       " {'aid': 961113, 'ts': 1661562901716, 'type': 'clicks'},\n",
       " {'aid': 883849, 'ts': 1661563120145, 'type': 'clicks'},\n",
       " {'aid': 701766, 'ts': 1661586370237, 'type': 'clicks'},\n",
       " {'aid': 924751, 'ts': 1661586382407, 'type': 'clicks'},\n",
       " {'aid': 168206, 'ts': 1661586401880, 'type': 'clicks'},\n",
       " {'aid': 924751, 'ts': 1661591004580, 'type': 'clicks'},\n",
       " {'aid': 219033, 'ts': 1661593840839, 'type': 'clicks'},\n",
       " {'aid': 171982, 'ts': 1661593852385, 'type': 'clicks'},\n",
       " {'aid': 1319939, 'ts': 1661607646300, 'type': 'clicks'},\n",
       " {'aid': 1349536, 'ts': 1661607734014, 'type': 'clicks'},\n",
       " {'aid': 334392, 'ts': 1661607781173, 'type': 'clicks'},\n",
       " {'aid': 1349536, 'ts': 1661607810151, 'type': 'clicks'},\n",
       " {'aid': 1349536, 'ts': 1661634295803, 'type': 'clicks'},\n",
       " {'aid': 165096, 'ts': 1661634321351, 'type': 'clicks'},\n",
       " {'aid': 315914, 'ts': 1661634351420, 'type': 'clicks'},\n",
       " {'aid': 315914, 'ts': 1661634431593, 'type': 'carts'},\n",
       " {'aid': 1680276, 'ts': 1661634664923, 'type': 'clicks'},\n",
       " {'aid': 1818905, 'ts': 1661634688122, 'type': 'clicks'},\n",
       " {'aid': 334392, 'ts': 1661634725193, 'type': 'clicks'},\n",
       " {'aid': 1048797, 'ts': 1661634830704, 'type': 'clicks'},\n",
       " {'aid': 1048797, 'ts': 1661673496255, 'type': 'clicks'},\n",
       " {'aid': 543308, 'ts': 1661682228301, 'type': 'clicks'},\n",
       " {'aid': 341626, 'ts': 1661684136178, 'type': 'clicks'},\n",
       " {'aid': 219925, 'ts': 1661684258732, 'type': 'clicks'},\n",
       " {'aid': 843110, 'ts': 1661684298768, 'type': 'clicks'},\n",
       " {'aid': 938007, 'ts': 1661684355390, 'type': 'clicks'},\n",
       " {'aid': 1228848, 'ts': 1661684528943, 'type': 'clicks'},\n",
       " {'aid': 1740927, 'ts': 1661684942173, 'type': 'clicks'},\n",
       " {'aid': 161938, 'ts': 1661684983707, 'type': 'clicks'}]"
      ]
     },
     "execution_count": 10,
     "metadata": {},
     "output_type": "execute_result"
    }
   ],
   "source": [
    "data['events']\n",
    "#for event in data['event']:\n",
    "#    del event['ts']"
   ]
  },
  {
   "cell_type": "code",
   "execution_count": 12,
   "id": "6adcb296",
   "metadata": {},
   "outputs": [
    {
     "name": "stderr",
     "output_type": "stream",
     "text": [
      "12899779it [18:18, 11748.32it/s]\n"
     ]
    }
   ],
   "source": [
    "import json\n",
    "\n",
    "# Map the \"type\" field to an integer\n",
    "type_map = {\n",
    "    \"clicks\": 1,\n",
    "    \"carts\": 3,\n",
    "    \"orders\": 5\n",
    "}\n",
    "\n",
    "\n",
    "# Open the input and output files\n",
    "with open('data/train.jsonl') as infile, open('data/train_1.jsonl', 'w') as outfile:\n",
    "    # Iterate through each line in the input file\n",
    "    for line in tqdm(infile):\n",
    "        # Load the JSON object from the line\n",
    "        data = json.loads(line)\n",
    "        # Iterate through the events in the \"events\" list\n",
    "        for event in data['events']:\n",
    "            # Remove the \"ts\" field from the event\n",
    "            event['type'] = type_map[event['type']]\n",
    "            del event['ts']\n",
    "        # Write the modified JSON object to the output file\n",
    "        json.dump(data, outfile)\n",
    "        outfile.write('\\n')\n"
   ]
  },
  {
   "cell_type": "code",
   "execution_count": 13,
   "id": "4f6ec7f8",
   "metadata": {},
   "outputs": [
    {
     "data": {
      "text/plain": [
       "{'session': 12899778,\n",
       " 'events': [{'aid': 561560, 'type': 1}, {'aid': 32070, 'type': 1}]}"
      ]
     },
     "execution_count": 13,
     "metadata": {},
     "output_type": "execute_result"
    }
   ],
   "source": [
    "data"
   ]
  },
  {
   "cell_type": "code",
   "execution_count": 2,
   "id": "154170d8",
   "metadata": {},
   "outputs": [
    {
     "name": "stdout",
     "output_type": "stream",
     "text": [
      "23/01/08 16:18:48 WARN Utils: Your hostname, darth-Vig800S resolves to a loopback address: 127.0.1.1; using 192.168.100.39 instead (on interface eno1)\n",
      "23/01/08 16:18:48 WARN Utils: Set SPARK_LOCAL_IP if you need to bind to another address\n"
     ]
    },
    {
     "name": "stderr",
     "output_type": "stream",
     "text": [
      "Setting default log level to \"WARN\".\n",
      "To adjust logging level use sc.setLogLevel(newLevel). For SparkR, use setLogLevel(newLevel).\n"
     ]
    },
    {
     "name": "stdout",
     "output_type": "stream",
     "text": [
      "23/01/08 16:18:51 WARN NativeCodeLoader: Unable to load native-hadoop library for your platform... using builtin-java classes where applicable\n"
     ]
    }
   ],
   "source": [
    "from pyspark.sql import SparkSession\n",
    "\n",
    "spark = SparkSession.builder \\\n",
    "    .config('spark.driver.memory', '24g') \\\n",
    "    .getOrCreate()"
   ]
  },
  {
   "cell_type": "code",
   "execution_count": 3,
   "id": "12cb0a66",
   "metadata": {},
   "outputs": [
    {
     "name": "stderr",
     "output_type": "stream",
     "text": [
      "                                                                                \r"
     ]
    }
   ],
   "source": [
    "from pyspark.sql import SparkSession\n",
    "\n",
    "# Create a SparkSession\n",
    "spark = SparkSession.builder.getOrCreate()\n",
    "\n",
    "# Read the JSONL file into a Spark DataFrame\n",
    "df = spark.read.json('data/train_1.jsonl', multiLine=True)\n",
    "\n",
    "# Flatten the \"events\" column and select the \"session\", \"aid\", and \"type\" columns\n",
    "df = df.select(df['session'], df['events']['aid'].alias('aid'), df['events']['type'].alias('type'))\n",
    "\n",
    "# Write the DataFrame to a Parquet file\n",
    "df.write.parquet('data/train_1.parquet', mode='overwrite')"
   ]
  },
  {
   "cell_type": "code",
   "execution_count": 4,
   "id": "8273078b",
   "metadata": {},
   "outputs": [
    {
     "name": "stdout",
     "output_type": "stream",
     "text": [
      "+-------+--------------------+--------------------+\n",
      "|session|                 aid|                type|\n",
      "+-------+--------------------+--------------------+\n",
      "|      0|[1517085, 1563459...|[1, 1, 1, 1, 1, 1...|\n",
      "+-------+--------------------+--------------------+\n",
      "\n"
     ]
    }
   ],
   "source": [
    "#from pyspark.sql import SparkSession\n",
    "\n",
    "# Create a SparkSession\n",
    "#spark = SparkSession.builder.getOrCreate()\n",
    "\n",
    "# Load the Parquet file into a Spark DataFrame\n",
    "df = spark.read.parquet('data/train_1.parquet')\n",
    "\n",
    "# Display the first few lines of the DataFrame\n",
    "df.show()"
   ]
  },
  {
   "cell_type": "code",
   "execution_count": null,
   "id": "99adff9f",
   "metadata": {},
   "outputs": [],
   "source": []
  }
 ],
 "metadata": {
  "kernelspec": {
   "display_name": "Python 3 (ipykernel)",
   "language": "python",
   "name": "python3"
  },
  "language_info": {
   "codemirror_mode": {
    "name": "ipython",
    "version": 3
   },
   "file_extension": ".py",
   "mimetype": "text/x-python",
   "name": "python",
   "nbconvert_exporter": "python",
   "pygments_lexer": "ipython3",
   "version": "3.9.13"
  }
 },
 "nbformat": 4,
 "nbformat_minor": 5
}
